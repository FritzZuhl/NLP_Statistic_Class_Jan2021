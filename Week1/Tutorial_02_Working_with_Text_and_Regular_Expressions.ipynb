{
 "cells": [
  {
   "cell_type": "markdown",
   "metadata": {
    "id": "sDV8fyxmiprR"
   },
   "source": [
    "# Strings and Regular Expressions\n",
    "\n",
    "Strings are a native data type in python which is one of the reasons python is the go-to language for NLP related tasks. \n",
    "\n",
    "In this notebook, we will:\n",
    " - Explore Strings up and close\n",
    " - Understand different operations that you can apply on strings\n",
    " - String Manipulation techniques\n",
    "\n",
    "We will also briefly cover __Regular Expressions__ in this notebook."
   ]
  },
  {
   "cell_type": "code",
   "execution_count": 2,
   "metadata": {
    "colab": {
     "base_uri": "https://localhost:8080/"
    },
    "id": "F57o6rvcigqV",
    "outputId": "2b4ff21f-6151-418e-a15d-9dfdb2a3e309"
   },
   "outputs": [
    {
     "name": "stdout",
     "output_type": "stream",
     "text": [
      "The Zen of Python, by Tim Peters\n",
      "\n",
      "Beautiful is better than ugly.\n",
      "Explicit is better than implicit.\n",
      "Simple is better than complex.\n",
      "Complex is better than complicated.\n",
      "Flat is better than nested.\n",
      "Sparse is better than dense.\n",
      "Readability counts.\n",
      "Special cases aren't special enough to break the rules.\n",
      "Although practicality beats purity.\n",
      "Errors should never pass silently.\n",
      "Unless explicitly silenced.\n",
      "In the face of ambiguity, refuse the temptation to guess.\n",
      "There should be one-- and preferably only one --obvious way to do it.\n",
      "Although that way may not be obvious at first unless you're Dutch.\n",
      "Now is better than never.\n",
      "Although never is often better than *right* now.\n",
      "If the implementation is hard to explain, it's a bad idea.\n",
      "If the implementation is easy to explain, it may be a good idea.\n",
      "Namespaces are one honking great idea -- let's do more of those!\n"
     ]
    }
   ],
   "source": [
    "# Zen of python\n",
    "\"\"\"\n",
    "The Zen of Python is a collection of 19 \"guiding principles\" \n",
    "for writing computer programs that influence the design \n",
    "of the Python programming language.\n",
    "\"\"\"\n",
    "import this"
   ]
  },
  {
   "cell_type": "markdown",
   "metadata": {
    "id": "XczOw4Bhiw8C"
   },
   "source": [
    "## String Under the Hood\n",
    "\n",
    "- A string is defined using alpha-numeric characters enclosed within double quotes\n",
    "- Each string object has a unique memory address which you can get using ``id(str)`` function\n",
    "- String is a native data-type"
   ]
  },
  {
   "cell_type": "code",
   "execution_count": 3,
   "metadata": {
    "colab": {
     "base_uri": "https://localhost:8080/"
    },
    "id": "yZDTMph4ir8o",
    "outputId": "21d6a1e0-4e6a-4849-c112-b9dfc4eda5c2"
   },
   "outputs": [
    {
     "name": "stdout",
     "output_type": "stream",
     "text": [
      "ID: 140450804196312\n",
      "Type: <class 'str'>\n",
      "Value: This is a String\n"
     ]
    }
   ],
   "source": [
    "new_string = \"This is a String\"  # storing a string\n",
    "\n",
    "print('ID:', id(new_string))  # shows the object identifier (address)\n",
    "print('Type:', type(new_string))  # shows the object type\n",
    "print('Value:', new_string)  # shows the object value"
   ]
  },
  {
   "cell_type": "markdown",
   "metadata": {
    "id": "FIa_NQD-U9BB"
   },
   "source": [
    "There are various types of strings like we had mentioned earlier and also shown a few examples in one of the previous sections regarding data types. The following BNF (Backus-Naur Form) gives us the general lexical definitions for producing strings as seen in the official Python docs.\n",
    "\n",
    "```\n",
    "stringliteral   ::=  [stringprefix](shortstring | longstring)\n",
    "stringprefix    ::=  \"r\" | \"u\" | \"ur\" | \"R\" | \"U\" | \"UR\" | \"Ur\" | \"uR\"\n",
    "                     | \"b\" | \"B\" | \"br\" | \"Br\" | \"bR\" | \"BR\"\n",
    "shortstring     ::=  \"'\" shortstringitem* \"'\" | '\"' shortstringitem* '\"'\n",
    "longstring      ::=  \"'''\" longstringitem* \"'''\" | '\"\"\"' longstringitem* '\"\"\"'\n",
    "shortstringitem ::=  shortstringchar | escapeseq\n",
    "longstringitem  ::=  longstringchar | escapeseq\n",
    "shortstringchar ::=  <any source character except \"\\\" or newline or the quote>\n",
    "longstringchar  ::=  <any source character except \"\\\">\n",
    "escapeseq       ::=  \"\\\" <any ASCII character>\n",
    "```\n",
    "\n",
    "\n",
    "The above rules tell us different types of string prefixes exist which can be used with different string types to produce string literals. In simple terms, the following types of string literals are used the most.\n",
    "\n",
    "- Short strings: These strings are usually enclosed with single (') or double quotes (\") around the characters. Some examples would be, 'Hello' and \"Hello\".\n",
    "\n",
    "- Long strings: These strings are usually enclosed with three single (''') or double quotes (\"\"\") around the characters. Some examples would be, \"\"\"Hello, I'm a long string\"\"\" or '''Hello I\\'m a long string '''. Do note the (\\') indicates an escape sequence which we shall talk about soon.\n",
    "\n",
    "- Escape sequences in strings: These strings often have escape sequences embedded in them where the rule for escape sequences in mentioned above which starts with a backslash (\\) followed by any ASCII character. Hence they perform backspace interpolation. Popular escape sequences include (\\n) indicating a new line character and (\\t) indicating a tab.\n",
    "\n",
    "- Bytes: These are used to represent bytestrings which create objects of the bytes data type. These strings can be created as bytes('…') or using the b'...' notation. Examples would be bytes('hello') and b'hello'. \n",
    "\n",
    "- Raw strings: These strings were originally created for specifically for regular expressions (regex) and creating regex patterns. These strings can be created using the r'...' notation and keep the string in its raw or native form. Hence it does not perform any backspace interpolation and turns off the escape sequences. An example would be r'Hello'.\n",
    "\n",
    "- Unicode: These strings support Unicode characters in text and they are usually non-ascii character sequences. These strings are denoted with the u'...' notation. However typically in Python 3.x all string literals are typically represented as Unicode. Besides the string notation, there are several specific ways to represent special Unicode characters in the string. The usual include the hex byte value escape sequence of the format '\\xVV'. Besides this, we also have Unicode escape sequences of the form '\\uVVVV' and '\\uVVVVVVVV' where the first form uses 4 hex-digits for encoding a 16 bit character and the second uses 8 hex-digits for encoding a 32-bit character. Some examples would be u 'H\\xe8llo' and u 'H\\u00e8llo' which represents the string 'Hèllo'.\n"
   ]
  },
  {
   "cell_type": "code",
   "execution_count": 3,
   "metadata": {
    "colab": {
     "base_uri": "https://localhost:8080/"
    },
    "id": "9WpnHzvJi3ad",
    "outputId": "72a1f358-3d38-4eea-da02-5832cdd95696"
   },
   "outputs": [
    {
     "name": "stdout",
     "output_type": "stream",
     "text": [
      "Hello! I'm a simple string\n"
     ]
    }
   ],
   "source": [
    "# simple string\n",
    "# You concatenate two strings with \"+\" operator\n",
    "simple_string = 'Hello!' + \" I'm a simple string\"\n",
    "print(simple_string)"
   ]
  },
  {
   "cell_type": "code",
   "execution_count": 4,
   "metadata": {
    "colab": {
     "base_uri": "https://localhost:8080/",
     "height": 35
    },
    "id": "nZNl2zOci5Mi",
    "outputId": "dc766c2a-b453-40be-84bb-04b106edbed0"
   },
   "outputs": [
    {
     "data": {
      "text/plain": [
       "\"Hello I'm\\na multi-line\\nstring!\""
      ]
     },
     "execution_count": 4,
     "metadata": {},
     "output_type": "execute_result"
    }
   ],
   "source": [
    "# multi-line string, note the \\n (newline) escape character automatically created\n",
    "multi_line_string = \"\"\"Hello I'm\n",
    "a multi-line\n",
    "string!\"\"\"\n",
    "\n",
    "multi_line_string\n"
   ]
  },
  {
   "cell_type": "code",
   "execution_count": 5,
   "metadata": {
    "colab": {
     "base_uri": "https://localhost:8080/"
    },
    "id": "DvIfVajHi9TJ",
    "outputId": "59d8fee5-6125-4b7c-9e7d-4fe2d9ec9da6"
   },
   "outputs": [
    {
     "name": "stdout",
     "output_type": "stream",
     "text": [
      "Hello I'm\n",
      "a multi-line\n",
      "string!\n"
     ]
    }
   ],
   "source": [
    "print(multi_line_string)"
   ]
  },
  {
   "cell_type": "code",
   "execution_count": 7,
   "metadata": {
    "colab": {
     "base_uri": "https://localhost:8080/"
    },
    "id": "f1_Pm2uri-8_",
    "outputId": "1183acb1-891a-435b-e86e-44e484891c61"
   },
   "outputs": [
    {
     "name": "stdout",
     "output_type": "stream",
     "text": [
      "C:\the_folder\n",
      "ew_dir\f",
      "ile.txt\n"
     ]
    }
   ],
   "source": [
    "# Normal string with escape sequences leading to a wrong file path!\n",
    "escaped_string = \"C:\\the_folder\\new_dir\\file.txt\"\n",
    "print(escaped_string)  # will cause errors if we try to open a file here"
   ]
  },
  {
   "cell_type": "code",
   "execution_count": 8,
   "metadata": {
    "colab": {
     "base_uri": "https://localhost:8080/"
    },
    "id": "QRFnNU3_jAxi",
    "outputId": "8529e369-e9e7-4ad6-8498-7b96bc30fcfd"
   },
   "outputs": [
    {
     "name": "stdout",
     "output_type": "stream",
     "text": [
      "C:\\the_folder\\new_dir\\file.txt\n"
     ]
    }
   ],
   "source": [
    "# raw string keeping the backslashes in its normal form\n",
    "# pay attention to \"r\" before the string quote starts\n",
    "raw_string = r'C:\\the_folder\\new_dir\\file.txt'\n",
    "print(raw_string)"
   ]
  },
  {
   "cell_type": "code",
   "execution_count": 9,
   "metadata": {
    "colab": {
     "base_uri": "https://localhost:8080/"
    },
    "id": "0QYhjCpLjDAM",
    "outputId": "10efee14-657b-4cc0-8580-7ace6e21f1b4"
   },
   "outputs": [
    {
     "name": "stdout",
     "output_type": "stream",
     "text": [
      "Hèllo!\n"
     ]
    }
   ],
   "source": [
    "# unicode string literals\n",
    "# python strings extend to unicode characters.\n",
    "string_with_unicode = 'H\\u00e8llo!'\n",
    "print(string_with_unicode)"
   ]
  },
  {
   "cell_type": "code",
   "execution_count": 10,
   "metadata": {
    "colab": {
     "base_uri": "https://localhost:8080/"
    },
    "id": "C_e8CB0gjE56",
    "outputId": "7d15180b-0ef3-4624-ada3-dddec09bef70"
   },
   "outputs": [
    {
     "name": "stdout",
     "output_type": "stream",
     "text": [
      "I love Pizza 🍕!  Shall we book a cab 🚕 to get pizza?\n"
     ]
    }
   ],
   "source": [
    "# Lets show some love for pizza using unicode and python\n",
    "more_unicode = 'I love Pizza 🍕!  Shall we book a cab 🚕 to get pizza?'\n",
    "print(more_unicode)"
   ]
  },
  {
   "cell_type": "code",
   "execution_count": 11,
   "metadata": {
    "colab": {
     "base_uri": "https://localhost:8080/"
    },
    "id": "U80YQ76hjHXZ",
    "outputId": "8f1fcb9c-4826-4dfb-cc8a-ea9de6c25a70"
   },
   "outputs": [
    {
     "name": "stdout",
     "output_type": "stream",
     "text": [
      "Hèllo!\n",
      "I love Pizza 🍕!  Shall we book a cab 🚕 to get pizza?\n"
     ]
    }
   ],
   "source": [
    "print(string_with_unicode + '\\n' + more_unicode)"
   ]
  },
  {
   "cell_type": "code",
   "execution_count": 12,
   "metadata": {
    "colab": {
     "base_uri": "https://localhost:8080/",
     "height": 35
    },
    "id": "S1AFOwcbjMG9",
    "outputId": "a4caf5ca-44c6-464f-d896-dfb7511d4946"
   },
   "outputs": [
    {
     "data": {
      "text/plain": [
       "'Hèllo! I love Pizza 🍕!  Shall we book a cab 🚕 to get pizza?'"
      ]
     },
     "execution_count": 12,
     "metadata": {},
     "output_type": "execute_result"
    }
   ],
   "source": [
    "# you can join two strings using the ``join`` function\n",
    "# syntax '<join-char>'.join([list of strings to be joined])\n",
    "' '.join([string_with_unicode, more_unicode])"
   ]
  },
  {
   "cell_type": "code",
   "execution_count": 13,
   "metadata": {
    "colab": {
     "base_uri": "https://localhost:8080/",
     "height": 35
    },
    "id": "-Uh_PdtJjNlu",
    "outputId": "c163977d-f0cb-4951-cf7c-1be339f408d1"
   },
   "outputs": [
    {
     "data": {
      "text/plain": [
       "'?azzip teg ot 🚕 bac a koob ew llahS  !🍕 azziP evol I'"
      ]
     },
     "execution_count": 13,
     "metadata": {},
     "output_type": "execute_result"
    }
   ],
   "source": [
    "# reversing a string is as simple as this!\n",
    "more_unicode[::-1]  # reverses the string"
   ]
  },
  {
   "cell_type": "markdown",
   "metadata": {
    "id": "yEc4WHJpjQ02"
   },
   "source": [
    "## String Operations\n",
    "\n",
    "Strings are iterable sequences and hence a lot of operations can be performed on them which are used especially when processing and parsing textual data into easy to consume formats. There are several operations which can be performed on strings. We have categorized them into the following segments.\n",
    "\n",
    "- Basic operations - concatenation, substrings etc.\n",
    "- Indexing and Slicing\n",
    "- Methods\n",
    "- Formatting\n",
    "- Regular Expressions \n",
    "\n",
    "\n",
    "These would cover the most frequently used techniques for working with strings"
   ]
  },
  {
   "cell_type": "markdown",
   "metadata": {
    "id": "QJkebOipjSvt"
   },
   "source": [
    "### Concatenation\n",
    "\n",
    "- '+' and ' ' operators are simple concatenation operators\n",
    "- We also enclose all strings in paranthesis '(s1 s2...s)` to concatenate all strings with space\n",
    "- '*' operator is used to specify number of repititions of a given string"
   ]
  },
  {
   "cell_type": "code",
   "execution_count": 14,
   "metadata": {
    "colab": {
     "base_uri": "https://localhost:8080/",
     "height": 35
    },
    "id": "GSZSkrgTjPN1",
    "outputId": "5cb76dcc-e3ec-48e0-ec20-6d5f036d922b"
   },
   "outputs": [
    {
     "data": {
      "text/plain": [
       "'Hello 😊 and welcome to Python 🐍!'"
      ]
     },
     "execution_count": 14,
     "metadata": {},
     "output_type": "execute_result"
    }
   ],
   "source": [
    "'Hello 😊' + ' and welcome ' + 'to Python 🐍!'"
   ]
  },
  {
   "cell_type": "code",
   "execution_count": 15,
   "metadata": {
    "colab": {
     "base_uri": "https://localhost:8080/",
     "height": 35
    },
    "id": "9ACxl_zyjXOG",
    "outputId": "a450fb4f-4a84-450b-ad75-b899db6b4fb4"
   },
   "outputs": [
    {
     "data": {
      "text/plain": [
       "'Hello 😊 and welcome to Python 🐍!'"
      ]
     },
     "execution_count": 15,
     "metadata": {},
     "output_type": "execute_result"
    }
   ],
   "source": [
    "'Hello 😊' ' and welcome ' 'to Python 🐍!'"
   ]
  },
  {
   "cell_type": "code",
   "execution_count": 16,
   "metadata": {
    "colab": {
     "base_uri": "https://localhost:8080/",
     "height": 35
    },
    "id": "Jza6Ygtnjabo",
    "outputId": "3641ed21-0ad2-4609-faf5-13327b040c83"
   },
   "outputs": [
    {
     "data": {
      "text/plain": [
       "'Hello 😊 Python 💻!'"
      ]
     },
     "execution_count": 16,
     "metadata": {},
     "output_type": "execute_result"
    }
   ],
   "source": [
    "# concat variables and literals\n",
    "s1 = 'Python 💻!'\n",
    "'Hello 😊 ' + s1"
   ]
  },
  {
   "cell_type": "code",
   "execution_count": null,
   "metadata": {},
   "outputs": [],
   "source": []
  },
  {
   "cell_type": "code",
   "execution_count": 17,
   "metadata": {
    "colab": {
     "base_uri": "https://localhost:8080/",
     "height": 35
    },
    "id": "ppWbvc8hjetN",
    "outputId": "afb46ebe-5beb-4b35-c068-9e8ca56c9219"
   },
   "outputs": [
    {
     "data": {
      "text/plain": [
       "'--🐍Python🐍----🐍Python🐍----🐍Python🐍----🐍Python🐍----🐍Python🐍--'"
      ]
     },
     "execution_count": 17,
     "metadata": {},
     "output_type": "execute_result"
    }
   ],
   "source": [
    "# pattern based string concat\n",
    "# or repeat a given string for specified number of times\n",
    "s2 = '--🐍Python🐍--'\n",
    "s2 * 5"
   ]
  },
  {
   "cell_type": "code",
   "execution_count": 18,
   "metadata": {
    "colab": {
     "base_uri": "https://localhost:8080/",
     "height": 35
    },
    "id": "o3L3l21ajkTf",
    "outputId": "fb05f95d-8997-4915-b07f-b6e09da7595a"
   },
   "outputs": [
    {
     "data": {
      "text/plain": [
       "'Python 💻!--🐍Python🐍--Python 💻!--🐍Python🐍--Python 💻!--🐍Python🐍--'"
      ]
     },
     "execution_count": 18,
     "metadata": {},
     "output_type": "execute_result"
    }
   ],
   "source": [
    "# of course, concatenate and repeat\n",
    "(s1 + s2)*3"
   ]
  },
  {
   "cell_type": "code",
   "execution_count": 19,
   "metadata": {
    "colab": {
     "base_uri": "https://localhost:8080/",
     "height": 35
    },
    "id": "p_QHm_jVjnW7",
    "outputId": "29784b5c-4745-4c94-82e2-5eb07e28712b"
   },
   "outputs": [
    {
     "data": {
      "text/plain": [
       "'This is another way to concatenate several strings!'"
      ]
     },
     "execution_count": 19,
     "metadata": {},
     "output_type": "execute_result"
    }
   ],
   "source": [
    "# paranthesis as an operator for string concat\n",
    "s3 = ('This '\n",
    "      'is another way '\n",
    "      'to concatenate '\n",
    "      'several strings!')\n",
    "s3"
   ]
  },
  {
   "cell_type": "markdown",
   "metadata": {
    "id": "StNGEsYRjxij"
   },
   "source": [
    "### Substrings\n",
    "\n",
    "- The \"in\" operator can be used to check if a sequence of characters are contained in a string"
   ]
  },
  {
   "cell_type": "code",
   "execution_count": 20,
   "metadata": {
    "colab": {
     "base_uri": "https://localhost:8080/"
    },
    "id": "jWaFt-jgjuo1",
    "outputId": "14d54143-e534-419a-a894-f2383720e868"
   },
   "outputs": [
    {
     "data": {
      "text/plain": [
       "True"
      ]
     },
     "execution_count": 20,
     "metadata": {},
     "output_type": "execute_result"
    }
   ],
   "source": [
    "'way' in s3"
   ]
  },
  {
   "cell_type": "markdown",
   "metadata": {
    "id": "y6Emwpwej3RV"
   },
   "source": [
    "### Length of String\n",
    "- \"len\" function is a simple way to get the lenght or number of characters in a given string object"
   ]
  },
  {
   "cell_type": "code",
   "execution_count": 21,
   "metadata": {
    "colab": {
     "base_uri": "https://localhost:8080/"
    },
    "id": "11vRHb40j0or",
    "outputId": "331c0b18-a9e1-42fe-f4d5-ecb0686f77b9"
   },
   "outputs": [
    {
     "data": {
      "text/plain": [
       "51"
      ]
     },
     "execution_count": 21,
     "metadata": {},
     "output_type": "execute_result"
    }
   ],
   "source": [
    "len(s3)"
   ]
  },
  {
   "cell_type": "markdown",
   "metadata": {
    "id": "atKINTEGj-14"
   },
   "source": [
    "## String Manipulation\n",
    "- Strings can be manipulated in the same we can manipulate arrays, i.e. using indices\n",
    "- Python strings can be sliced from both sides with special indexing capabilities"
   ]
  },
  {
   "cell_type": "code",
   "execution_count": 22,
   "metadata": {
    "colab": {
     "base_uri": "https://localhost:8080/"
    },
    "id": "PgmQxi43j5wB",
    "outputId": "d8fc054f-b3c4-450a-e6f0-7ab0787554c3"
   },
   "outputs": [
    {
     "data": {
      "text/plain": [
       "('PYTHON', str)"
      ]
     },
     "execution_count": 22,
     "metadata": {},
     "output_type": "execute_result"
    }
   ],
   "source": [
    "# creating a string\n",
    "s = 'PYTHON'\n",
    "s, type(s)"
   ]
  },
  {
   "cell_type": "markdown",
   "metadata": {
    "id": "ITTbs7thkExi"
   },
   "source": [
    "### Indexing\n",
    "\n",
    "Strings are iterables which are sequences of characters. Hence they can be indexed, sliced and iterated through similar to other iterables like lists. Each character has a specific position in the string which is its index and using indexes, we can access specific parts of the string. \n",
    "\n",
    "Accessing a single character using a specific position or index in the string is termed as indexing and accessing a part of a string i.e., a substring using a start and end index is termed as slicing. \n",
    "\n",
    "Python supports two types of indexes, one starting from 0 and increases by 1 each time per character till the end of the string and the other starting from -1 at the end of the string and decreases by 1 each time for each character till the beginning of the string\n",
    "\n",
    "![](https://i.imgur.com/u9tEKkM.png)"
   ]
  },
  {
   "cell_type": "code",
   "execution_count": 23,
   "metadata": {
    "colab": {
     "base_uri": "https://localhost:8080/"
    },
    "id": "egU6HcCmkB72",
    "outputId": "0eb7820d-7a22-4bef-d0fc-3c15e1e2c00d"
   },
   "outputs": [
    {
     "name": "stdout",
     "output_type": "stream",
     "text": [
      "Character -> P has index-> 0\n",
      "Character -> Y has index-> 1\n",
      "Character -> T has index-> 2\n",
      "Character -> H has index-> 3\n",
      "Character -> O has index-> 4\n",
      "Character -> N has index-> 5\n"
     ]
    }
   ],
   "source": [
    "# depicting string indexes\n",
    "for index, character in enumerate(s):\n",
    "    print('Character ->', character, 'has index->', index)"
   ]
  },
  {
   "cell_type": "code",
   "execution_count": 24,
   "metadata": {
    "colab": {
     "base_uri": "https://localhost:8080/"
    },
    "id": "wbCo3sQakF4L",
    "outputId": "7c47e8da-ab36-425c-a620-54067d97e563"
   },
   "outputs": [
    {
     "data": {
      "text/plain": [
       "('P', 'Y', 'T', 'H', 'O', 'N')"
      ]
     },
     "execution_count": 24,
     "metadata": {},
     "output_type": "execute_result"
    }
   ],
   "source": [
    "s[0], s[1], s[2], s[3], s[4], s[5]"
   ]
  },
  {
   "cell_type": "code",
   "execution_count": 25,
   "metadata": {
    "colab": {
     "base_uri": "https://localhost:8080/"
    },
    "id": "X8uJ7xBkkHqf",
    "outputId": "c3af3e25-52b7-44e2-a4b3-0d487acfb70b"
   },
   "outputs": [
    {
     "data": {
      "text/plain": [
       "('N', 'O', 'H', 'T', 'Y', 'P')"
      ]
     },
     "execution_count": 25,
     "metadata": {},
     "output_type": "execute_result"
    }
   ],
   "source": [
    "s[-1], s[-2], s[-3], s[-4], s[-5], s[-6]"
   ]
  },
  {
   "cell_type": "markdown",
   "metadata": {
    "id": "UdU4FEO0kLFg"
   },
   "source": [
    "### Slicing"
   ]
  },
  {
   "cell_type": "code",
   "execution_count": 26,
   "metadata": {
    "colab": {
     "base_uri": "https://localhost:8080/",
     "height": 35
    },
    "id": "trJIki2ukI9l",
    "outputId": "1a7401bf-5ba0-4ffc-c1b7-82e752a631e7"
   },
   "outputs": [
    {
     "data": {
      "text/plain": [
       "'PYTHON'"
      ]
     },
     "execution_count": 26,
     "metadata": {},
     "output_type": "execute_result"
    }
   ],
   "source": [
    "s[:] "
   ]
  },
  {
   "cell_type": "markdown",
   "metadata": {
    "id": "Cnh2C-sr5qvS"
   },
   "source": [
    "- Python strings are 0 indexed\n",
    "- The range mentioned in the square braces includes the lower bound but not the upper bound"
   ]
  },
  {
   "cell_type": "code",
   "execution_count": 27,
   "metadata": {
    "colab": {
     "base_uri": "https://localhost:8080/",
     "height": 35
    },
    "id": "th7BaEf1kMFj",
    "outputId": "6e248429-3530-4dc3-8787-566207fcf691"
   },
   "outputs": [
    {
     "data": {
      "text/plain": [
       "'YTH'"
      ]
     },
     "execution_count": 27,
     "metadata": {},
     "output_type": "execute_result"
    }
   ],
   "source": [
    "s[1:4]"
   ]
  },
  {
   "cell_type": "markdown",
   "metadata": {
    "id": "FftWE12V58P7"
   },
   "source": [
    "- You can count from the end as well\n",
    "- -1 is the last index, -2 is second last and so on"
   ]
  },
  {
   "cell_type": "code",
   "execution_count": 29,
   "metadata": {
    "colab": {
     "base_uri": "https://localhost:8080/",
     "height": 35
    },
    "id": "j73QypJFkOh5",
    "outputId": "c5046b06-7c3d-4080-bb01-93a9aa1b57ce"
   },
   "outputs": [
    {
     "data": {
      "text/plain": [
       "'HON'"
      ]
     },
     "execution_count": 29,
     "metadata": {},
     "output_type": "execute_result"
    }
   ],
   "source": [
    "s[-3:]"
   ]
  },
  {
   "cell_type": "code",
   "execution_count": 30,
   "metadata": {
    "colab": {
     "base_uri": "https://localhost:8080/"
    },
    "id": "H4ezFw7AkQET",
    "outputId": "245344e9-c22f-49e0-a672-d7eb0a1e3acf"
   },
   "outputs": [
    {
     "data": {
      "text/plain": [
       "('PYT', 'HON')"
      ]
     },
     "execution_count": 30,
     "metadata": {},
     "output_type": "execute_result"
    }
   ],
   "source": [
    "s[:3] , s[-3:]"
   ]
  },
  {
   "cell_type": "markdown",
   "metadata": {
    "id": "JFKRvDUm6Fkf"
   },
   "source": [
    "- You can move within string with a stride greater than 1 as well"
   ]
  },
  {
   "cell_type": "code",
   "execution_count": 31,
   "metadata": {
    "colab": {
     "base_uri": "https://localhost:8080/",
     "height": 35
    },
    "id": "T6kTFWS5kTS_",
    "outputId": "a1b76d01-b6dd-42c8-fb12-6af0ac32da17"
   },
   "outputs": [
    {
     "data": {
      "text/plain": [
       "'PTO'"
      ]
     },
     "execution_count": 31,
     "metadata": {},
     "output_type": "execute_result"
    }
   ],
   "source": [
    "# slicing with offsets\n",
    "s[::2]  # print every 2nd character in string"
   ]
  },
  {
   "cell_type": "markdown",
   "metadata": {
    "id": "1oenT0lBkcfQ"
   },
   "source": [
    "## Strings are IMMUTABLE\n",
    "- You cannot change strings"
   ]
  },
  {
   "cell_type": "code",
   "execution_count": 32,
   "metadata": {
    "colab": {
     "base_uri": "https://localhost:8080/",
     "height": 180
    },
    "id": "jfte5C8TkZ8n",
    "outputId": "13b2adc8-d30f-4272-f7e1-0c2f72a38762"
   },
   "outputs": [
    {
     "ename": "TypeError",
     "evalue": "'str' object does not support item assignment",
     "output_type": "error",
     "traceback": [
      "\u001B[0;31m---------------------------------------------------------------------------\u001B[0m",
      "\u001B[0;31mTypeError\u001B[0m                                 Traceback (most recent call last)",
      "\u001B[0;32m<ipython-input-32-0d7229b05a1f>\u001B[0m in \u001B[0;36m<module>\u001B[0;34m\u001B[0m\n\u001B[1;32m      1\u001B[0m \u001B[0;31m# strings are immutable hence assignment throws error\u001B[0m\u001B[0;34m\u001B[0m\u001B[0;34m\u001B[0m\u001B[0;34m\u001B[0m\u001B[0m\n\u001B[0;32m----> 2\u001B[0;31m \u001B[0ms\u001B[0m\u001B[0;34m[\u001B[0m\u001B[0;36m0\u001B[0m\u001B[0;34m]\u001B[0m \u001B[0;34m=\u001B[0m \u001B[0;34m'X'\u001B[0m\u001B[0;34m\u001B[0m\u001B[0;34m\u001B[0m\u001B[0m\n\u001B[0m",
      "\u001B[0;31mTypeError\u001B[0m: 'str' object does not support item assignment"
     ]
    }
   ],
   "source": [
    "# strings are immutable hence assignment throws error\n",
    "s[0] = 'X'"
   ]
  },
  {
   "cell_type": "code",
   "execution_count": 33,
   "metadata": {
    "colab": {
     "base_uri": "https://localhost:8080/"
    },
    "id": "EnUg_uxYkeyS",
    "outputId": "5b71ba03-dcdf-44c6-991a-0143514bad06"
   },
   "outputs": [
    {
     "name": "stdout",
     "output_type": "stream",
     "text": [
      "Original String id: 140402619031032\n",
      "XYTHON\n",
      "New String id: 140402619112000\n"
     ]
    }
   ],
   "source": [
    "print('Original String id:', id(s))\n",
    "# creates a new string\n",
    "s = 'X' + s[1:]\n",
    "print(s)\n",
    "print('New String id:', id(s))"
   ]
  },
  {
   "cell_type": "markdown",
   "metadata": {
    "id": "-X4A-MLUknzF"
   },
   "source": [
    "## Case Conversion\n",
    "- Python loves strings and provides a number of utilities to handle various aspects such as case conversion, etc.\n",
    "- Different conversion methods are available by default with all string objects"
   ]
  },
  {
   "cell_type": "code",
   "execution_count": 34,
   "metadata": {
    "id": "gCTQzmSHkhtb"
   },
   "outputs": [],
   "source": [
    "s = 'python is great'"
   ]
  },
  {
   "cell_type": "code",
   "execution_count": 35,
   "metadata": {
    "colab": {
     "base_uri": "https://localhost:8080/",
     "height": 35
    },
    "id": "LL4pgtcFkqBv",
    "outputId": "0c7b14e4-6c92-4809-c93c-7529b419d7fa"
   },
   "outputs": [
    {
     "data": {
      "text/plain": [
       "'Python is great'"
      ]
     },
     "execution_count": 35,
     "metadata": {},
     "output_type": "execute_result"
    }
   ],
   "source": [
    "s.capitalize()"
   ]
  },
  {
   "cell_type": "code",
   "execution_count": 36,
   "metadata": {
    "colab": {
     "base_uri": "https://localhost:8080/",
     "height": 35
    },
    "id": "Ms-sGEOxkrwt",
    "outputId": "d7a1bd03-baea-4aee-f64f-c102a7460537"
   },
   "outputs": [
    {
     "data": {
      "text/plain": [
       "'PYTHON IS GREAT'"
      ]
     },
     "execution_count": 36,
     "metadata": {},
     "output_type": "execute_result"
    }
   ],
   "source": [
    "s.upper()"
   ]
  },
  {
   "cell_type": "code",
   "execution_count": 37,
   "metadata": {
    "colab": {
     "base_uri": "https://localhost:8080/",
     "height": 35
    },
    "id": "rLW9zgekktTx",
    "outputId": "e206a207-451a-40aa-a4ac-13177653e66f"
   },
   "outputs": [
    {
     "data": {
      "text/plain": [
       "'Python Is Great'"
      ]
     },
     "execution_count": 37,
     "metadata": {},
     "output_type": "execute_result"
    }
   ],
   "source": [
    "s.title()"
   ]
  },
  {
   "cell_type": "markdown",
   "metadata": {
    "id": "54X3y1ROkwgD"
   },
   "source": [
    "## Replacement\n",
    "- To substitute specific characters in a string, simply use ``replace`` method"
   ]
  },
  {
   "cell_type": "code",
   "execution_count": 38,
   "metadata": {
    "colab": {
     "base_uri": "https://localhost:8080/",
     "height": 35
    },
    "id": "17e-CG3hkurD",
    "outputId": "e568f19d-6f0a-4a1f-fd97-938557c77156"
   },
   "outputs": [
    {
     "data": {
      "text/plain": [
       "'NLP is great'"
      ]
     },
     "execution_count": 38,
     "metadata": {},
     "output_type": "execute_result"
    }
   ],
   "source": [
    "s.replace('python', 'NLP')"
   ]
  },
  {
   "cell_type": "markdown",
   "metadata": {
    "id": "XjBdvNK_k1q6"
   },
   "source": [
    "## Checks\n",
    "- Strings can be checked whether they are composed of:\n",
    "  - numbers -> ``isdecimal``\n",
    "  - alpha-numeric -> ``isalnum``\n",
    "  - alphabets -> ``isalpha``"
   ]
  },
  {
   "cell_type": "code",
   "execution_count": 39,
   "metadata": {
    "colab": {
     "base_uri": "https://localhost:8080/"
    },
    "id": "2r9Tq6AdkyTU",
    "outputId": "6db7fd5a-aaf6-4275-afa8-e43b053166e1"
   },
   "outputs": [
    {
     "data": {
      "text/plain": [
       "True"
      ]
     },
     "execution_count": 39,
     "metadata": {},
     "output_type": "execute_result"
    }
   ],
   "source": [
    "'12345'.isdecimal()"
   ]
  },
  {
   "cell_type": "code",
   "execution_count": 41,
   "metadata": {
    "colab": {
     "base_uri": "https://localhost:8080/"
    },
    "id": "l8daNUaPk2vS",
    "outputId": "9116640e-9872-4b66-9375-ee5bc16e1c41"
   },
   "outputs": [
    {
     "data": {
      "text/plain": [
       "False"
      ]
     },
     "execution_count": 41,
     "metadata": {},
     "output_type": "execute_result"
    }
   ],
   "source": [
    "'number1'.isalpha()"
   ]
  },
  {
   "cell_type": "code",
   "execution_count": 42,
   "metadata": {
    "colab": {
     "base_uri": "https://localhost:8080/"
    },
    "id": "TMW5ce47k4Zn",
    "outputId": "69c7a4fe-9d08-433c-f370-7965f212402d"
   },
   "outputs": [
    {
     "data": {
      "text/plain": [
       "True"
      ]
     },
     "execution_count": 42,
     "metadata": {},
     "output_type": "execute_result"
    }
   ],
   "source": [
    "'total'.isalnum()"
   ]
  },
  {
   "cell_type": "code",
   "execution_count": 43,
   "metadata": {
    "colab": {
     "base_uri": "https://localhost:8080/"
    },
    "id": "PJWe5p_Hk8n4",
    "outputId": "7eb33fb6-b0f5-4dfb-bb07-075ca88e29dd"
   },
   "outputs": [
    {
     "data": {
      "text/plain": [
       "False"
      ]
     },
     "execution_count": 43,
     "metadata": {},
     "output_type": "execute_result"
    }
   ],
   "source": [
    "'1+1'.isalnum()"
   ]
  },
  {
   "cell_type": "markdown",
   "metadata": {
    "id": "B82mPHa_lCcx"
   },
   "source": [
    "## Splits and Joins\n",
    "- Splitting strings based on specific characters is pretty simple. ``split(<split-char>)``\n",
    "- Joining is also simple. ``<join-character>.join([list of string objects])``"
   ]
  },
  {
   "cell_type": "code",
   "execution_count": 44,
   "metadata": {
    "colab": {
     "base_uri": "https://localhost:8080/"
    },
    "id": "ZRuFZ9u7k_fO",
    "outputId": "eef8028b-7c46-4598-f05a-a0f7b64168e2"
   },
   "outputs": [
    {
     "data": {
      "text/plain": [
       "['I', 'am', 'a', 'comma', 'separated', 'string']"
      ]
     },
     "execution_count": 44,
     "metadata": {},
     "output_type": "execute_result"
    }
   ],
   "source": [
    "s = 'I,am,a,comma,separated,string'\n",
    "s.split(',')"
   ]
  },
  {
   "cell_type": "code",
   "execution_count": 45,
   "metadata": {
    "colab": {
     "base_uri": "https://localhost:8080/",
     "height": 35
    },
    "id": "DoklXIJGlDte",
    "outputId": "d0b13227-2b8e-44c0-8f3d-b4b00f3fd131"
   },
   "outputs": [
    {
     "data": {
      "text/plain": [
       "'I am a comma separated string'"
      ]
     },
     "execution_count": 45,
     "metadata": {},
     "output_type": "execute_result"
    }
   ],
   "source": [
    "' '.join(s.split(','))"
   ]
  },
  {
   "cell_type": "code",
   "execution_count": 46,
   "metadata": {
    "colab": {
     "base_uri": "https://localhost:8080/",
     "height": 35
    },
    "id": "gITj7-JTlFPa",
    "outputId": "b29118a4-1ff0-45f8-b4d2-e3837f3c9704"
   },
   "outputs": [
    {
     "data": {
      "text/plain": [
       "'   I am surrounded by spaces    '"
      ]
     },
     "execution_count": 46,
     "metadata": {},
     "output_type": "execute_result"
    }
   ],
   "source": [
    "# stripping whitespace characters\n",
    "s = '   I am surrounded by spaces    '\n",
    "s"
   ]
  },
  {
   "cell_type": "code",
   "execution_count": 47,
   "metadata": {
    "colab": {
     "base_uri": "https://localhost:8080/",
     "height": 35
    },
    "id": "m59VpCSglH-p",
    "outputId": "ed4acf58-fb29-41e2-bb8b-de69b0cdf9e5"
   },
   "outputs": [
    {
     "data": {
      "text/plain": [
       "'I am surrounded by spaces'"
      ]
     },
     "execution_count": 47,
     "metadata": {},
     "output_type": "execute_result"
    }
   ],
   "source": [
    "s.strip()"
   ]
  },
  {
   "cell_type": "markdown",
   "metadata": {
    "id": "z2V9CJCjlOoF"
   },
   "source": [
    "## Formatting\n",
    "- What fun it would be if we could not format strings\n",
    "- Python provides a number of ways of formating strings"
   ]
  },
  {
   "cell_type": "code",
   "execution_count": 48,
   "metadata": {
    "colab": {
     "base_uri": "https://localhost:8080/",
     "height": 35
    },
    "id": "ym8Z1yBllJYd",
    "outputId": "bc4b3dd5-a521-480e-c751-c13c916da6e5"
   },
   "outputs": [
    {
     "data": {
      "text/plain": [
       "'Hello Python!'"
      ]
     },
     "execution_count": 48,
     "metadata": {},
     "output_type": "execute_result"
    }
   ],
   "source": [
    "'Hello %s' %('Python!')"
   ]
  },
  {
   "cell_type": "code",
   "execution_count": 49,
   "metadata": {
    "colab": {
     "base_uri": "https://localhost:8080/",
     "height": 35
    },
    "id": "bo_NQf98lPxo",
    "outputId": "d3556187-2e8c-4783-9118-d8558a3eb9ad"
   },
   "outputs": [
    {
     "data": {
      "text/plain": [
       "'Hello World! How are you?'"
      ]
     },
     "execution_count": 49,
     "metadata": {},
     "output_type": "execute_result"
    }
   ],
   "source": [
    "'Hello %s %s' %('World!', 'How are you?')"
   ]
  },
  {
   "cell_type": "code",
   "execution_count": 50,
   "metadata": {
    "colab": {
     "base_uri": "https://localhost:8080/",
     "height": 35
    },
    "id": "ujR607rplT2O",
    "outputId": "dc0230a4-e656-40b6-8c75-de9d9ec8c201"
   },
   "outputs": [
    {
     "data": {
      "text/plain": [
       "'We have 2 bottles containing 2.50 gallons of milk'"
      ]
     },
     "execution_count": 50,
     "metadata": {},
     "output_type": "execute_result"
    }
   ],
   "source": [
    "'We have %d %s containing %.2f gallons of %s' %(2, 'bottles', 2.5, 'milk')"
   ]
  },
  {
   "cell_type": "code",
   "execution_count": 51,
   "metadata": {
    "colab": {
     "base_uri": "https://localhost:8080/",
     "height": 35
    },
    "id": "f8eZylpslWdi",
    "outputId": "e37eb876-5fa3-4fec-edcc-61a81338a19c"
   },
   "outputs": [
    {
     "data": {
      "text/plain": [
       "'We have 5 jugs containing 10.87 gallons of juice'"
      ]
     },
     "execution_count": 51,
     "metadata": {},
     "output_type": "execute_result"
    }
   ],
   "source": [
    "'We have %d %s containing %.2f gallons of %s' %(5.21, 'jugs', 10.86763, 'juice')"
   ]
  },
  {
   "cell_type": "markdown",
   "metadata": {
    "id": "lsYC4PfTldD-"
   },
   "source": [
    "### New Style\n",
    "- The recent versions of python prefer the following method of formating strings"
   ]
  },
  {
   "cell_type": "code",
   "execution_count": 52,
   "metadata": {
    "colab": {
     "base_uri": "https://localhost:8080/",
     "height": 35
    },
    "id": "UMWaJZCJlaES",
    "outputId": "dd5bf1d0-fc0c-4543-e84c-591447d89e40"
   },
   "outputs": [
    {
     "data": {
      "text/plain": [
       "'Hello Mr. Jones, it is a great pleasure to meet you at 5'"
      ]
     },
     "execution_count": 52,
     "metadata": {},
     "output_type": "execute_result"
    }
   ],
   "source": [
    "'Hello {} {}, it is a great {} to meet you at {}'.format('Mr.', 'Jones', 'pleasure', 5)"
   ]
  },
  {
   "cell_type": "code",
   "execution_count": 53,
   "metadata": {
    "colab": {
     "base_uri": "https://localhost:8080/",
     "height": 35
    },
    "id": "VrUtTs1nlfMB",
    "outputId": "645f73f9-7951-4edd-9e86-57645b6d70a6"
   },
   "outputs": [
    {
     "data": {
      "text/plain": [
       "\"Hello Sir Arthur, it is a great honor to meet you at 9 o' clock\""
      ]
     },
     "execution_count": 53,
     "metadata": {},
     "output_type": "execute_result"
    }
   ],
   "source": [
    "'Hello {} {}, it is a great {} to meet you at {} o\\' clock'.format('Sir', 'Arthur', 'honor', 9)"
   ]
  },
  {
   "cell_type": "code",
   "execution_count": 54,
   "metadata": {
    "colab": {
     "base_uri": "https://localhost:8080/",
     "height": 35
    },
    "id": "22oU5iLylgz1",
    "outputId": "c1e220bd-b003-496e-8519-988c85909af3"
   },
   "outputs": [
    {
     "data": {
      "text/plain": [
       "'I have a sandwich and a soda with me'"
      ]
     },
     "execution_count": 54,
     "metadata": {},
     "output_type": "execute_result"
    }
   ],
   "source": [
    "'I have a {food_item} and a {drink_item} with me'.format(drink_item='soda', food_item='sandwich')"
   ]
  },
  {
   "cell_type": "markdown",
   "metadata": {
    "id": "T9aWr-Rjlsfn"
   },
   "source": [
    "# Regular Expressions\n",
    "A regular expression is a sequence of characters that define a search pattern. Patterns are used by string-searching algorithms for \"find\" or \"find and replace\" operations on strings, or for input validation. \n",
    "\n",
    "Python provides a simple yet powerful library ``re`` to use regular-expressions"
   ]
  },
  {
   "cell_type": "markdown",
   "metadata": {
    "id": "kN-3votYXCob"
   },
   "source": [
    "Regular expressions, known more popularly as regexes allows you to create string patterns and use them for searching and substituting specific pattern matches in textual data. Python offers a rich module named re for creating and using regular expressions. Entire books have been written on this topic because it is easy to use but difficult to master. Discussing every aspect of regular expressions would not be possible in the current scope but we will cover the main areas with sufficient examples which should be enough to get started on this topic. \n",
    "\n",
    "Regular expressions or regexes are specific patterns often denotes using the raw string notation. These patterns match a specific set of strings based on the rules expressed by the patterns. These patterns then are usually compiled into bytecode which is then executed for matching strings using a matching engine. The re module also provides several flags which can change the way the pattern matches are executed. Some important flags are mentioned as follows.\n",
    "\n",
    "- re.I or re.IGNORECASE is used to match patterns ignoring case sensitivity\n",
    "- re.S or re.DOTALL causes the period (.) character to match any character including new lines\n",
    "- re.U or re.UNICODE helps in matching Unicode based characters also (deprecated in Python 3.x)\n"
   ]
  },
  {
   "cell_type": "code",
   "execution_count": 4,
   "metadata": {
    "id": "gCg-slBollh0"
   },
   "outputs": [],
   "source": [
    "s1 = 'Python is an excellent language'\n",
    "s2 = 'I love the Python language. I also use Python to build applications at work!'"
   ]
  },
  {
   "cell_type": "code",
   "execution_count": 5,
   "metadata": {
    "id": "8cCgsMxjlvQe"
   },
   "outputs": [
    {
     "name": "stdout",
     "output_type": "stream",
     "text": [
      "<re.Match object; span=(0, 6), match='Python'>\n"
     ]
    }
   ],
   "source": [
    "import re\n",
    "\n",
    "pattern = 'Python'\n",
    "# match only returns a match if regex match is found at the beginning of the string\n",
    "print(re.match(pattern, s1))"
   ]
  },
  {
   "cell_type": "code",
   "execution_count": 7,
   "metadata": {},
   "outputs": [
    {
     "data": {
      "text/plain": [
       "'Python'"
      ]
     },
     "execution_count": 7,
     "metadata": {},
     "output_type": "execute_result"
    }
   ],
   "source": [
    "tmp = re.match(pattern, s1)\n",
    "tmp.group()"
   ]
  },
  {
   "cell_type": "markdown",
   "metadata": {
    "id": "Y6rxmZ4w8Rt1"
   },
   "source": [
    "## Lets find some strings"
   ]
  },
  {
   "cell_type": "code",
   "execution_count": 8,
   "metadata": {
    "colab": {
     "base_uri": "https://localhost:8080/"
    },
    "id": "GWPTIyxEl0zJ",
    "outputId": "12d327f2-ad6d-4e8d-a223-807712f46bc3"
   },
   "outputs": [
    {
     "data": {
      "text/plain": [
       "<re.Match object; span=(0, 6), match='Python'>"
      ]
     },
     "execution_count": 8,
     "metadata": {},
     "output_type": "execute_result"
    }
   ],
   "source": [
    "# pattern is in lower case hence ignore case flag helps\n",
    "# in matching same pattern with different cases\n",
    "re.match(pattern, s1, flags=re.IGNORECASE)"
   ]
  },
  {
   "cell_type": "code",
   "execution_count": 9,
   "metadata": {
    "colab": {
     "base_uri": "https://localhost:8080/"
    },
    "id": "gqaMCboAl2ve",
    "outputId": "64e99e75-7865-47eb-f3e6-cf08cda71cde"
   },
   "outputs": [
    {
     "name": "stdout",
     "output_type": "stream",
     "text": [
      "Found match Python ranging from index 0 - 6 in the string \"Python is an excellent language\"\n"
     ]
    }
   ],
   "source": [
    "# printing matched string and its indices in the original string\n",
    "m = re.match(pattern, s1, flags=re.IGNORECASE)\n",
    "print('Found match {} ranging from index {} - {} in the string \"{}\"'.format(m.group(0), \n",
    "                                                                            m.start(), \n",
    "                                                                            m.end(), s1))"
   ]
  },
  {
   "cell_type": "code",
   "execution_count": 10,
   "metadata": {
    "id": "_1ZUepz-l6Mt"
   },
   "outputs": [],
   "source": [
    "# match does not work when pattern is not there in the beginning of string s2\n",
    "re.match(pattern, s2, re.IGNORECASE)"
   ]
  },
  {
   "cell_type": "code",
   "execution_count": 65,
   "metadata": {
    "colab": {
     "base_uri": "https://localhost:8080/"
    },
    "id": "scPfsm_6l7tR",
    "outputId": "785905b9-247c-495f-9932-58b6297e4c10"
   },
   "outputs": [
    {
     "data": {
      "text/plain": [
       "<re.Match object; span=(11, 17), match='Python'>"
      ]
     },
     "execution_count": 65,
     "metadata": {},
     "output_type": "execute_result"
    }
   ],
   "source": [
    "# illustrating find and search methods using the re module\n",
    "re.search(pattern, s2, re.IGNORECASE)"
   ]
  },
  {
   "cell_type": "code",
   "execution_count": 66,
   "metadata": {
    "colab": {
     "base_uri": "https://localhost:8080/"
    },
    "id": "S8JgCL8ul_7G",
    "outputId": "105830ad-d744-4b69-b025-f89e86a2e264"
   },
   "outputs": [
    {
     "data": {
      "text/plain": [
       "['Python', 'Python']"
      ]
     },
     "execution_count": 66,
     "metadata": {},
     "output_type": "execute_result"
    }
   ],
   "source": [
    "# find all substrings \n",
    "re.findall(pattern, s2, re.IGNORECASE)"
   ]
  },
  {
   "cell_type": "code",
   "execution_count": 67,
   "metadata": {
    "colab": {
     "base_uri": "https://localhost:8080/"
    },
    "id": "j87fMp43mEBh",
    "outputId": "9a9a8fa6-c5d5-45b1-a0f7-3532c7f7ff0b"
   },
   "outputs": [
    {
     "data": {
      "text/plain": [
       "<callable_iterator at 0x7fb2083c04e0>"
      ]
     },
     "execution_count": 67,
     "metadata": {},
     "output_type": "execute_result"
    }
   ],
   "source": [
    "# get an iterator for matches found in a string\n",
    "match_objs = re.finditer(pattern, s2, re.IGNORECASE)\n",
    "match_objs"
   ]
  },
  {
   "cell_type": "code",
   "execution_count": 68,
   "metadata": {
    "colab": {
     "base_uri": "https://localhost:8080/"
    },
    "id": "NIj6JdOKmIxC",
    "outputId": "84ac25cd-eca9-409c-a63a-023fc5ebecb1"
   },
   "outputs": [
    {
     "name": "stdout",
     "output_type": "stream",
     "text": [
      "String: I love the Python language. I also use Python to build applications at work!\n",
      "Found match \"Python\" ranging from index 11 - 17\n",
      "Found match \"Python\" ranging from index 39 - 45\n"
     ]
    }
   ],
   "source": [
    "print(\"String:\", s2)\n",
    "for m in match_objs:\n",
    "    print('Found match \"{}\" ranging from index {} - {}'.format(m.group(0), \n",
    "                                                               m.start(), m.end()))"
   ]
  },
  {
   "cell_type": "markdown",
   "metadata": {
    "id": "7ZmOJKrZXOHo"
   },
   "source": [
    "For pattern matching, there are various rules used in regexes. Some popular ones are mentioned as follows.\n",
    "\n",
    "-\t`.` for matching any single character\n",
    "-\t`^` for matching the start of the string\n",
    "-\t`$` for matching the end of the string\n",
    "-\t`*` for matching zero or more cases of the previous mentioned regex before the `*` symbol in the pattern\n",
    "-\t`?` for matching zero or one case of the previous mentioned regex before the `?` symbol in the pattern\n",
    "-\t`[...]` for matching any one of the set of characters inside the square brackets\n",
    "-\t`[^...]` for matching a character not present in the square brackets after the `^` symbol\n",
    "-\t`|` denotes the OR operator for matching either the preceding or the next regex\n",
    "-\t`+` for matching one or more cases of the previous mentioned regex before the `+` symbol in the pattern\n",
    "-\t`\\d` for matching decimal digits which is also depicted as `[0-9]`\n",
    "-\t`\\D` for matching non-digits, also depicted as `[^0-9]`\n",
    "-\t`\\s` for matching white space characters\n",
    "-\t`\\S` for matching non whitespace characters\n",
    "-\t`\\w` for matching alpha-numeric characters also depicted as `[a-zA-Z0-9_]`\n",
    "-\t`\\W` for matching non alpha-numeric characters also depicted as `[^a-zA-Z0-9_]`\n"
   ]
  },
  {
   "cell_type": "markdown",
   "metadata": {
    "id": "M9DHvTkPXx3v"
   },
   "source": [
    "Regular expressions can be compiled into pattern objects and then they can be used with a variety of methods for pattern search and substitution in strings. The main methods offered by the re module for performing these operations are described briefly as follows.\n",
    "\n",
    "-\t`re.compile()`: This method compiles a specified regular expression pattern into a regular expression object, which can be used for matching and searching. Takes a pattern and optional flags as input which we discussed above.\n",
    "-\t`re.match()`: This method is used to match patterns at the beginning of strings.\n",
    "-\t`re.search()`: This method is used to match patterns occurring at any position in the string.\n",
    "-\t`re.findall()`: This method returns all non-overlapping matches of the specified regex pattern in the string.\n",
    "-\t`re.finditer()`: This method returns all matched instances in the form of an iterator, for a specific pattern in a string when scanned from left to right.\n",
    "-\t`re.sub()`: This method is used to substitute a specified regex pattern in a string with a replacement string. It only substitutes the left-most occurrence of the pattern in the string.\n"
   ]
  },
  {
   "cell_type": "markdown",
   "metadata": {
    "id": "BFg1zzjrmObl"
   },
   "source": [
    "## Time for some Substitution \n",
    "Regular expressions are useful in locating different patterns in a given string. This search capability is further enhanced by utilities to replace the substrings as well.\n",
    "\n",
    "The python ``re`` library provides the following methods for substitution:\n",
    "- ``sub``\n",
    "- ``subn``"
   ]
  },
  {
   "cell_type": "code",
   "execution_count": 84,
   "metadata": {},
   "outputs": [
    {
     "data": {
      "text/plain": [
       "<module 're' from '/Library/Frameworks/Python.framework/Versions/3.7/lib/python3.7/re.py'>"
      ]
     },
     "execution_count": 84,
     "metadata": {},
     "output_type": "execute_result"
    }
   ],
   "source": [
    "re."
   ]
  },
  {
   "cell_type": "code",
   "execution_count": 69,
   "metadata": {
    "colab": {
     "base_uri": "https://localhost:8080/",
     "height": 35
    },
    "id": "QaqR-BVOmLPF",
    "outputId": "a89ea1ab-8aca-4c13-9b7d-1507922e1124"
   },
   "outputs": [
    {
     "data": {
      "text/plain": [
       "'I love the Java language. I also use Java to build applications at work!'"
      ]
     },
     "execution_count": 69,
     "metadata": {},
     "output_type": "execute_result"
    }
   ],
   "source": [
    "# illustrating pattern substitution using sub and subn methods\n",
    "re.sub(pattern, 'Java', s2, flags=re.IGNORECASE)"
   ]
  },
  {
   "cell_type": "code",
   "execution_count": 82,
   "metadata": {
    "colab": {
     "base_uri": "https://localhost:8080/"
    },
    "id": "BKEP9X-YmRSO",
    "outputId": "5682bfb4-c447-4f76-b8d0-c58031dec5ab"
   },
   "outputs": [
    {
     "data": {
      "text/plain": [
       "('Is see Java, Java, foo, Java', 1)"
      ]
     },
     "execution_count": 82,
     "metadata": {},
     "output_type": "execute_result"
    }
   ],
   "source": [
    "s3 = \"Is see Java, Python, foo, Java\"\n",
    "re.subn(pattern, 'Java', s3, flags=re.IGNORECASE)"
   ]
  },
  {
   "cell_type": "markdown",
   "metadata": {
    "id": "o_VN3Q-58m4O"
   },
   "source": [
    "## Regex and Unicode Strings\n",
    "Python handles unicode strings pretty well. This capability is carried forward by the ``re`` package as well. We can easily search for patterns in a unicode string and vice-versa as well"
   ]
  },
  {
   "cell_type": "code",
   "execution_count": 71,
   "metadata": {
    "colab": {
     "base_uri": "https://localhost:8080/",
     "height": 35
    },
    "id": "i7JGMVPzmUzH",
    "outputId": "b3be5d43-8d23-4ace-9a81-8fcb7ce43369"
   },
   "outputs": [
    {
     "data": {
      "text/plain": [
       "'Hèllo! this is Python 🐍'"
      ]
     },
     "execution_count": 71,
     "metadata": {},
     "output_type": "execute_result"
    }
   ],
   "source": [
    "# dealing with unicode matching using regexes\n",
    "s = u'H\\u00e8llo! this is Python 🐍'\n",
    "s"
   ]
  },
  {
   "cell_type": "code",
   "execution_count": 85,
   "metadata": {
    "colab": {
     "base_uri": "https://localhost:8080/"
    },
    "id": "xjlDdJtvmc8M",
    "outputId": "19658c18-8227-4951-c2b6-4a6ec91072aa"
   },
   "outputs": [
    {
     "data": {
      "text/plain": [
       "['Hèllo', 'this', 'is', 'Python']"
      ]
     },
     "execution_count": 85,
     "metadata": {},
     "output_type": "execute_result"
    }
   ],
   "source": [
    "re.findall(r'\\w+', s)"
   ]
  },
  {
   "cell_type": "code",
   "execution_count": 86,
   "metadata": {
    "colab": {
     "base_uri": "https://localhost:8080/"
    },
    "id": "JxytzouKmewm",
    "outputId": "e83c2773-b067-4748-e0b5-c2e969573d72"
   },
   "outputs": [
    {
     "data": {
      "text/plain": [
       "['Hèllo', 'Python']"
      ]
     },
     "execution_count": 86,
     "metadata": {},
     "output_type": "execute_result"
    }
   ],
   "source": [
    "re.findall(r\"[A-Z]\\w+\", s, re.UNICODE)"
   ]
  },
  {
   "cell_type": "code",
   "execution_count": 87,
   "metadata": {
    "colab": {
     "base_uri": "https://localhost:8080/"
    },
    "id": "EZkd_ci5mgSn",
    "outputId": "e318693f-7457-43cf-cc93-38a072f077e5"
   },
   "outputs": [
    {
     "data": {
      "text/plain": [
       "['🐍']"
      ]
     },
     "execution_count": 87,
     "metadata": {},
     "output_type": "execute_result"
    }
   ],
   "source": [
    "emoji_pattern = r\"['\\U0001F300-\\U0001F5FF'|'\\U0001F600-\\U0001F64F'|'\\U0001F680-\\U0001F6FF'|'\\u2600-\\u26FF\\u2700-\\u27BF']\"\n",
    "re.findall(emoji_pattern, s, re.UNICODE)"
   ]
  },
  {
   "cell_type": "markdown",
   "metadata": {
    "id": "DBYU1vmG4BNu"
   },
   "source": [
    "## Regex Anchors\n",
    "\n",
    "Anchors are a special feature of the regex library. It allows us to apply pattern search to specific contexts. Anchors are identified through the use of escape character `\\`. The following are a few popular anchors:\n",
    "- `\\A`: Search restricted start of string\n",
    "- `\\Z`: Search restrictrd to end of string\n",
    "- `^' : Search at start of line. Same as `\\A` is there is only a single string (no `\\n`')\n",
    "- `$`: Search at the end of line.\n",
    "- `\\b`:Search at a word's boundary"
   ]
  },
  {
   "cell_type": "code",
   "execution_count": 88,
   "metadata": {
    "colab": {
     "base_uri": "https://localhost:8080/"
    },
    "id": "cSlW01_V4BwL",
    "outputId": "c8d451ca-2cef-42e6-9aa4-790e1858eadc"
   },
   "outputs": [
    {
     "data": {
      "text/plain": [
       "True"
      ]
     },
     "execution_count": 88,
     "metadata": {},
     "output_type": "execute_result"
    }
   ],
   "source": [
    "# search at the start of string\n",
    "bool(re.search(r'\\Acat','cater'))"
   ]
  },
  {
   "cell_type": "code",
   "execution_count": 89,
   "metadata": {
    "colab": {
     "base_uri": "https://localhost:8080/"
    },
    "id": "6_7T21TK4CYZ",
    "outputId": "9b928abd-0654-4d12-d42d-df892b599e73"
   },
   "outputs": [
    {
     "data": {
      "text/plain": [
       "False"
      ]
     },
     "execution_count": 89,
     "metadata": {},
     "output_type": "execute_result"
    }
   ],
   "source": [
    "# this would return False as cat is not at the starting of string\n",
    "bool(re.search(r'\\Acat','concatenation'))"
   ]
  },
  {
   "cell_type": "code",
   "execution_count": 90,
   "metadata": {
    "colab": {
     "base_uri": "https://localhost:8080/"
    },
    "id": "yLi51r5k4CbW",
    "outputId": "c984edef-2739-4b7a-9932-fc76b69db6a3"
   },
   "outputs": [
    {
     "data": {
      "text/plain": [
       "True"
      ]
     },
     "execution_count": 90,
     "metadata": {},
     "output_type": "execute_result"
    }
   ],
   "source": [
    "# search at end of string and append\n",
    "bool(re.sub('\\Z','er','hack'))"
   ]
  },
  {
   "cell_type": "code",
   "execution_count": 91,
   "metadata": {
    "colab": {
     "base_uri": "https://localhost:8080/"
    },
    "id": "gWyAyTqR5nJG",
    "outputId": "111b65cc-00c9-4334-966b-88ceec99a8f8"
   },
   "outputs": [
    {
     "data": {
      "text/plain": [
       "True"
      ]
     },
     "execution_count": 91,
     "metadata": {},
     "output_type": "execute_result"
    }
   ],
   "source": [
    "# search at start of string\n",
    "bool(re.search(r'^hi','hi, welcome to python\\nhi to everyone'))"
   ]
  },
  {
   "cell_type": "code",
   "execution_count": 100,
   "metadata": {
    "id": "6dbjUax_6Q-F"
   },
   "outputs": [],
   "source": [
    "sentence = \"par spar parts spare\""
   ]
  },
  {
   "cell_type": "code",
   "execution_count": 93,
   "metadata": {
    "colab": {
     "base_uri": "https://localhost:8080/",
     "height": 35
    },
    "id": "_CcKto9F6gXh",
    "outputId": "4bb3dbee-c4d7-4340-d274-561af5e4d063"
   },
   "outputs": [
    {
     "data": {
      "text/plain": [
       "'X sX Xts sXe'"
      ]
     },
     "execution_count": 93,
     "metadata": {},
     "output_type": "execute_result"
    }
   ],
   "source": [
    "# this will replace all occurances\n",
    "re.sub(r'par','X',sentence)"
   ]
  },
  {
   "cell_type": "code",
   "execution_count": 95,
   "metadata": {},
   "outputs": [
    {
     "data": {
      "text/plain": [
       "' s ts se'"
      ]
     },
     "execution_count": 95,
     "metadata": {},
     "output_type": "execute_result"
    }
   ],
   "source": [
    "re.sub(r'par', '', sentence)"
   ]
  },
  {
   "cell_type": "code",
   "execution_count": 96,
   "metadata": {
    "colab": {
     "base_uri": "https://localhost:8080/",
     "height": 35
    },
    "id": "pFmEtBpx6lCd",
    "outputId": "cc4a4950-eadf-4fcf-b9ca-921f1eac78d6"
   },
   "outputs": [
    {
     "data": {
      "text/plain": [
       "'X spar Xts spare'"
      ]
     },
     "execution_count": 96,
     "metadata": {},
     "output_type": "execute_result"
    }
   ],
   "source": [
    "# this will replace only matches with start of string\n",
    "re.sub(r'\\bpar','X',sentence)"
   ]
  },
  {
   "cell_type": "code",
   "execution_count": 101,
   "metadata": {
    "colab": {
     "base_uri": "https://localhost:8080/",
     "height": 35
    },
    "id": "kJBwzSx36k4q",
    "outputId": "5ef13e8b-db9d-4904-e6d9-2515319bd647"
   },
   "outputs": [
    {
     "data": {
      "text/plain": [
       "'X sX parts spare'"
      ]
     },
     "execution_count": 101,
     "metadata": {},
     "output_type": "execute_result"
    }
   ],
   "source": [
    "# this will replace only matches with end of string\n",
    "re.sub(r'par\\b','X',sentence)"
   ]
  },
  {
   "cell_type": "markdown",
   "metadata": {
    "id": "T7TGU6el7cvs"
   },
   "source": [
    "## Alternation and Grouping\n",
    "\n",
    "``re`` provides smart ways of combining multiple search patterns in a single command.\n",
    "- `|`: this acts like a logical OR\n",
    "- Paranthesis can be used to group multiple alternatives"
   ]
  },
  {
   "cell_type": "code",
   "execution_count": null,
   "metadata": {},
   "outputs": [],
   "source": [
    "# stopped here Jan. 18, 2021, at 5:15pm"
   ]
  },
  {
   "cell_type": "code",
   "execution_count": 102,
   "metadata": {
    "colab": {
     "base_uri": "https://localhost:8080/",
     "height": 35
    },
    "id": "Xg0VHSg67CSM",
    "outputId": "ddfc75e2-dd30-46f9-ed97-6aac3ea295ba"
   },
   "outputs": [
    {
     "data": {
      "text/plain": [
       "'Xs and Xs make good pets'"
      ]
     },
     "execution_count": 102,
     "metadata": {},
     "output_type": "execute_result"
    }
   ],
   "source": [
    "pattern = \"cat|dog\"\n",
    "sentence = \"cats and dogs make good pets\"\n",
    "\n",
    "# this will search mutliple patterns at once\n",
    "re.sub(pattern,'X',sentence)"
   ]
  },
  {
   "cell_type": "code",
   "execution_count": 103,
   "metadata": {
    "colab": {
     "base_uri": "https://localhost:8080/",
     "height": 35
    },
    "id": "UfHPUAZc8CnK",
    "outputId": "633edc20-d2e1-4bc7-f740-5b7bf974c6b2"
   },
   "outputs": [
    {
     "data": {
      "text/plain": [
       "'all Xs are not X to forests'"
      ]
     },
     "execution_count": 103,
     "metadata": {},
     "output_type": "execute_result"
    }
   ],
   "source": [
    "pattern = \"re(form|lated)\"\n",
    "sentence = \"all reforms are not related to forests\"\n",
    "\n",
    "# this will search mutliple patterns at once using grouping\n",
    "re.sub(pattern,'X',sentence)"
   ]
  },
  {
   "cell_type": "markdown",
   "metadata": {
    "id": "Ky4JYt2kmoep"
   },
   "source": [
    "# End to End Example\n",
    "\n",
    "We covered a number of concepts related to __strings__ and __regular expressions__. Time to work through an end-to-end example to apply everything we have learnt so far"
   ]
  },
  {
   "cell_type": "code",
   "execution_count": null,
   "metadata": {
    "colab": {
     "base_uri": "https://localhost:8080/"
    },
    "id": "ZkUvY_l0ms89",
    "outputId": "591b1f4b-2f28-4450-88b4-0b2af2217c13"
   },
   "outputs": [],
   "source": [
    "# get a sample corpus\n",
    "import nltk\n",
    "nltk.download('gutenberg')"
   ]
  },
  {
   "cell_type": "markdown",
   "metadata": {
    "id": "YqYowgKZ9LRQ"
   },
   "source": [
    "### Import Libraries"
   ]
  },
  {
   "cell_type": "code",
   "execution_count": null,
   "metadata": {
    "id": "kllkQmBB9ICW"
   },
   "outputs": [],
   "source": [
    "from nltk.corpus import gutenberg\n",
    "import matplotlib.pyplot as plt\n",
    "\n",
    "%matplotlib inline"
   ]
  },
  {
   "cell_type": "code",
   "execution_count": null,
   "metadata": {
    "colab": {
     "base_uri": "https://localhost:8080/"
    },
    "id": "ExeJTmSUmiZZ",
    "outputId": "9ef6521e-2120-4fb3-fb12-a46f76b658d4"
   },
   "outputs": [],
   "source": [
    "bible = gutenberg.open('bible-kjv.txt')\n",
    "bible = bible.readlines()\n",
    "\n",
    "# get first few lines\n",
    "bible[:5]"
   ]
  },
  {
   "cell_type": "code",
   "execution_count": null,
   "metadata": {
    "colab": {
     "base_uri": "https://localhost:8080/"
    },
    "id": "TU5CITfumqLp",
    "outputId": "17aa7f63-2b6f-4022-fc08-fc7ce07c7d8e"
   },
   "outputs": [],
   "source": [
    "# remove newline characters from sentences\n",
    "bible = list(filter(None, [item.strip('\\n') for item in bible]))\n",
    "bible[:5]"
   ]
  },
  {
   "cell_type": "markdown",
   "metadata": {
    "id": "Lij4WRBH9k3a"
   },
   "source": [
    "## How long are Sentences in the Bible?"
   ]
  },
  {
   "cell_type": "code",
   "execution_count": null,
   "metadata": {
    "colab": {
     "base_uri": "https://localhost:8080/",
     "height": 265
    },
    "id": "hbZoRxttmyNb",
    "outputId": "8a36a70d-0d58-4a8c-a762-0cd4f7643e4f"
   },
   "outputs": [],
   "source": [
    "# in terms of number of characters per sentence\n",
    "line_lengths = [len(sentence) for sentence in bible]\n",
    "h = plt.hist(line_lengths)"
   ]
  },
  {
   "cell_type": "markdown",
   "metadata": {
    "id": "brJZIN1q97Dd"
   },
   "source": [
    "### Number of words per Sentence?"
   ]
  },
  {
   "cell_type": "code",
   "execution_count": null,
   "metadata": {
    "colab": {
     "base_uri": "https://localhost:8080/"
    },
    "id": "CVqo2sxdm0vY",
    "outputId": "59200109-d60a-4cae-cde7-62d347b0b50a"
   },
   "outputs": [],
   "source": [
    "tokens = [item.split() for item in bible]\n",
    "print(tokens[:5])"
   ]
  },
  {
   "cell_type": "code",
   "execution_count": null,
   "metadata": {
    "colab": {
     "base_uri": "https://localhost:8080/",
     "height": 265
    },
    "id": "wDZ09avDm2Xm",
    "outputId": "1a62bc8a-b781-49c8-8b8d-fd1cc8191281"
   },
   "outputs": [],
   "source": [
    "total_tokens_per_line = [len(sentence.split()) for sentence in bible]\n",
    "h = plt.hist(total_tokens_per_line, color='orange')"
   ]
  },
  {
   "cell_type": "code",
   "execution_count": null,
   "metadata": {
    "colab": {
     "base_uri": "https://localhost:8080/"
    },
    "id": "P4ELbBDVm3wr",
    "outputId": "789c8884-1060-4e13-92fa-3d3283ac1e52"
   },
   "outputs": [],
   "source": [
    "words = [word for sentence in tokens for word in sentence]\n",
    "print(words[:20])"
   ]
  },
  {
   "cell_type": "markdown",
   "metadata": {
    "id": "6bRC0n8C-Cel"
   },
   "source": [
    "## Filter out alphanumeric and numbers"
   ]
  },
  {
   "cell_type": "code",
   "execution_count": null,
   "metadata": {
    "colab": {
     "base_uri": "https://localhost:8080/"
    },
    "id": "P4kzvWS3m5QM",
    "outputId": "25be715b-52f6-47fe-c8a9-d174e8354ea7"
   },
   "outputs": [],
   "source": [
    "words = list(filter(None, [re.sub(r'[^A-Za-z]', '', word) for word in words]))\n",
    "print(words[:20])"
   ]
  },
  {
   "cell_type": "markdown",
   "metadata": {
    "id": "h9WDdKVA-WoO"
   },
   "source": [
    "### How Frequency are these words used?"
   ]
  },
  {
   "cell_type": "code",
   "execution_count": null,
   "metadata": {
    "colab": {
     "base_uri": "https://localhost:8080/"
    },
    "id": "dwz5qaCCm7e1",
    "outputId": "6182d1c0-2a80-4668-cd60-300ab90699f8"
   },
   "outputs": [],
   "source": [
    "from collections import Counter\n",
    "\n",
    "words = [word.lower() for word in words]\n",
    "c = Counter(words)\n",
    "c.most_common(10)"
   ]
  },
  {
   "cell_type": "markdown",
   "metadata": {
    "id": "c7ZVc57S-ld-"
   },
   "source": [
    "## StopWords?\n",
    "“stop words” typically refers to the most common words in a language which do not contribute to much towards the content of the corpus."
   ]
  },
  {
   "cell_type": "markdown",
   "metadata": {
    "id": "QQmIUlQZ-xNx"
   },
   "source": [
    "### Remove Stopwords\n",
    "\n",
    "``nltk`` to the rescue. ``nltk`` has a long list of stopwords in english language. We can use this list to clean our word list\n"
   ]
  },
  {
   "cell_type": "code",
   "execution_count": null,
   "metadata": {
    "colab": {
     "base_uri": "https://localhost:8080/"
    },
    "id": "IVnvVUcenAyF",
    "outputId": "8353f76f-c613-49b3-a96e-521b42d764f9"
   },
   "outputs": [],
   "source": [
    "# download stopwords\n",
    "nltk.download('stopwords')"
   ]
  },
  {
   "cell_type": "code",
   "execution_count": null,
   "metadata": {
    "colab": {
     "base_uri": "https://localhost:8080/"
    },
    "id": "O8kyJq62m9YP",
    "outputId": "b7ca88fb-2460-475b-8ef2-5fc44617edfa"
   },
   "outputs": [],
   "source": [
    "import nltk \n",
    "\n",
    "# get list of stopwords\n",
    "stopwords = nltk.corpus.stopwords.words('english')\n",
    "# filter out stop words\n",
    "words = [word.lower() for word in words if word.lower() not in stopwords]\n",
    "\n",
    "# get frequency counts of cleaned list\n",
    "c = Counter(words)\n",
    "c.most_common(10)"
   ]
  }
 ],
 "metadata": {
  "colab": {
   "collapsed_sections": [],
   "name": "Tutorial 02 - Working with Text and Regular Expressions.ipynb",
   "provenance": [],
   "toc_visible": true
  },
  "kernelspec": {
   "display_name": "Python 3",
   "language": "python",
   "name": "python3"
  },
  "language_info": {
   "codemirror_mode": {
    "name": "ipython",
    "version": 3
   },
   "file_extension": ".py",
   "mimetype": "text/x-python",
   "name": "python",
   "nbconvert_exporter": "python",
   "pygments_lexer": "ipython3",
   "version": "3.7.3"
  }
 },
 "nbformat": 4,
 "nbformat_minor": 1
}