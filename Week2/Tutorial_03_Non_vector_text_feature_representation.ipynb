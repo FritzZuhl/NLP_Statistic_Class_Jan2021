{
  "nbformat": 4,
  "nbformat_minor": 0,
  "metadata": {
    "colab": {
      "name": "Tutorial 03 - Non-vector text feature representation.ipynb",
      "provenance": [],
      "collapsed_sections": [],
      "toc_visible": true
    },
    "kernelspec": {
      "name": "python3",
      "display_name": "Python 3"
    }
  },
  "cells": [
    {
      "cell_type": "markdown",
      "metadata": {
        "id": "EZ7rW1rZ6t-K"
      },
      "source": [
        "# Tutorial 3: Non Vectorized Text Features\n",
        "\n",
        "Tutorial 1 focussed on text preprocessing and wrangling. Once we have the text in a clean format, the next step is to prepare it for various NLP modeling activities.\n",
        "\n",
        "Since text cannot be directly utilized by any downstream machine learning or deep learning model (given these are mathematical functions at heart, we need to transform it into numeric or vectorized formats. \n",
        "\n",
        "In this tutorial, we will work towards extracting various features from text so as to use them for different NLP tasks. There are vectorization methods which we will cover in the next tutorial. \n",
        "\n",
        "In this tutorial we will focus on non-vectorized methodologies which will try and derive features from various properties of the text content. The idea is these features being numeric can be used by downstream machine learning models as necessary for downstream tasks which you will learn about in the next few modules.\n",
        "\n",
        "In this notebook, we will cover:\n",
        "- Count based hand-crafted features\n",
        "- Parts of Speech based features\n",
        "- Text Legibility features\n",
        "- Sentiment-based Features"
      ]
    },
    {
      "cell_type": "markdown",
      "metadata": {
        "id": "vKG8deo066It"
      },
      "source": [
        "## Load Libraries"
      ]
    },
    {
      "cell_type": "code",
      "metadata": {
        "id": "BPVzv_J43rD4"
      },
      "source": [
        "import string\n",
        "import numpy as np\n",
        "import pandas as pd\n",
        "from sklearn.datasets import fetch_20newsgroups"
      ],
      "execution_count": 1,
      "outputs": []
    },
    {
      "cell_type": "markdown",
      "metadata": {
        "id": "r3gTJoX67BW-"
      },
      "source": [
        "## Load Dataset\n",
        "\n",
        "``sklearn`` provides a number of datasets for understanding and building NLP pipelines. In this notebook we will make use of **20-newsgroups** dataset. This notebook consists of a number of news articles classified under various categories.\n",
        "\n",
        "For the purposes of this notebook/tutorial we will only focus on the actual article _text_ only for the space-scientific articles category."
      ]
    },
    {
      "cell_type": "code",
      "metadata": {
        "id": "kRAFaWP26-72",
        "colab": {
          "base_uri": "https://localhost:8080/"
        },
        "outputId": "709d1994-7ecb-428a-8cad-f0abc3455ef4"
      },
      "source": [
        "cats = ['sci.space']\n",
        "news_group_data = fetch_20newsgroups(subset='train', categories=cats,remove=('headers', 'footers', 'quotes')).data"
      ],
      "execution_count": 2,
      "outputs": [
        {
          "output_type": "stream",
          "text": [
            "Downloading 20news dataset. This may take a few minutes.\n",
            "Downloading dataset from https://ndownloader.figshare.com/files/5975967 (14 MB)\n"
          ],
          "name": "stderr"
        }
      ]
    },
    {
      "cell_type": "code",
      "metadata": {
        "colab": {
          "base_uri": "https://localhost:8080/"
        },
        "id": "Fansbkv1-A69",
        "outputId": "260fa089-0141-487a-fa08-977b96bc3579"
      },
      "source": [
        "df = pd.DataFrame(data={\n",
        "    'article':news_group_data\n",
        "})\n",
        "df.shape"
      ],
      "execution_count": 3,
      "outputs": [
        {
          "output_type": "execute_result",
          "data": {
            "text/plain": [
              "(593, 1)"
            ]
          },
          "metadata": {
            "tags": []
          },
          "execution_count": 3
        }
      ]
    },
    {
      "cell_type": "code",
      "metadata": {
        "colab": {
          "base_uri": "https://localhost:8080/",
          "height": 204
        },
        "id": "zciNKrXE_XqH",
        "outputId": "52333097-981d-4e79-ec7f-c775b71f3d6a"
      },
      "source": [
        "df.head()"
      ],
      "execution_count": 4,
      "outputs": [
        {
          "output_type": "execute_result",
          "data": {
            "text/html": [
              "<div>\n",
              "<style scoped>\n",
              "    .dataframe tbody tr th:only-of-type {\n",
              "        vertical-align: middle;\n",
              "    }\n",
              "\n",
              "    .dataframe tbody tr th {\n",
              "        vertical-align: top;\n",
              "    }\n",
              "\n",
              "    .dataframe thead th {\n",
              "        text-align: right;\n",
              "    }\n",
              "</style>\n",
              "<table border=\"1\" class=\"dataframe\">\n",
              "  <thead>\n",
              "    <tr style=\"text-align: right;\">\n",
              "      <th></th>\n",
              "      <th>article</th>\n",
              "    </tr>\n",
              "  </thead>\n",
              "  <tbody>\n",
              "    <tr>\n",
              "      <th>0</th>\n",
              "      <td>\\nAny lunar satellite needs fuel to do regular...</td>\n",
              "    </tr>\n",
              "    <tr>\n",
              "      <th>1</th>\n",
              "      <td>\\nGlad to see Griffin is spending his time on ...</td>\n",
              "    </tr>\n",
              "    <tr>\n",
              "      <th>2</th>\n",
              "      <td>\\n\\n\\nIn spite of my great respect for the peo...</td>\n",
              "    </tr>\n",
              "    <tr>\n",
              "      <th>3</th>\n",
              "      <td>\\n\\n\\n\\n\\nDidn't one of the early jet fighters...</td>\n",
              "    </tr>\n",
              "    <tr>\n",
              "      <th>4</th>\n",
              "      <td>I just got out of the Army. Go signal corps or...</td>\n",
              "    </tr>\n",
              "  </tbody>\n",
              "</table>\n",
              "</div>"
            ],
            "text/plain": [
              "                                             article\n",
              "0  \\nAny lunar satellite needs fuel to do regular...\n",
              "1  \\nGlad to see Griffin is spending his time on ...\n",
              "2  \\n\\n\\nIn spite of my great respect for the peo...\n",
              "3  \\n\\n\\n\\n\\nDidn't one of the early jet fighters...\n",
              "4  I just got out of the Army. Go signal corps or..."
            ]
          },
          "metadata": {
            "tags": []
          },
          "execution_count": 4
        }
      ]
    },
    {
      "cell_type": "markdown",
      "metadata": {
        "id": "YVKBefdr_hbn"
      },
      "source": [
        "How the first article looks like"
      ]
    },
    {
      "cell_type": "code",
      "metadata": {
        "colab": {
          "base_uri": "https://localhost:8080/",
          "height": 103
        },
        "id": "iSdZGKyM_dti",
        "outputId": "d5c38b90-5697-4faa-e9b5-55c3baf8c84f"
      },
      "source": [
        "df['article'].values[0]"
      ],
      "execution_count": 5,
      "outputs": [
        {
          "output_type": "execute_result",
          "data": {
            "application/vnd.google.colaboratory.intrinsic+json": {
              "type": "string"
            },
            "text/plain": [
              "\"\\nAny lunar satellite needs fuel to do regular orbit corrections, and when\\nits fuel runs out it will crash within months.  The orbits of the Apollo\\nmotherships changed noticeably during lunar missions lasting only a few\\ndays.  It is *possible* that there are stable orbits here and there --\\nthe Moon's gravitational field is poorly mapped -- but we know of none.\\n\\nPerturbations from Sun and Earth are relatively minor issues at low\\naltitudes.  The big problem is that the Moon's own gravitational field\\nis quite lumpy due to the irregular distribution of mass within the Moon.\""
            ]
          },
          "metadata": {
            "tags": []
          },
          "execution_count": 5
        }
      ]
    },
    {
      "cell_type": "markdown",
      "metadata": {
        "id": "Lfke303Q7cvm"
      },
      "source": [
        "## Count Based Features\n",
        "\n",
        "Counting presence or absence of certain words/characters is a good proxy of the information contained in a sentence/corpus. In this section, we will prepare a list of various count based hand-crafted features such as:\n",
        "\n",
        "- **Word Count**: total number of words in the documents\n",
        "- **Character Count**: total number of characters in the documents\n",
        "- **Average Word Density**: average length of the words used in the documents\n",
        "- **Puncutation Count**: total number of punctuation marks in the documents\n",
        "- **Upper Case Count**: total number of upper count words in the documents\n",
        "- **Title Word Count**: total number of proper case (title) words in the documents"
      ]
    },
    {
      "cell_type": "code",
      "metadata": {
        "id": "Sgbjyn3M7vGw"
      },
      "source": [
        "feature_col = 'article'"
      ],
      "execution_count": 6,
      "outputs": []
    },
    {
      "cell_type": "code",
      "metadata": {
        "id": "Ohf_PxZF6-5c"
      },
      "source": [
        "df['char_count'] = df[feature_col].apply(len)"
      ],
      "execution_count": 7,
      "outputs": []
    },
    {
      "cell_type": "code",
      "metadata": {
        "id": "FSNmijMd8BAr"
      },
      "source": [
        "df['word_count'] = df[feature_col].apply(lambda x: len(x.split()))"
      ],
      "execution_count": 8,
      "outputs": []
    },
    {
      "cell_type": "code",
      "metadata": {
        "id": "qDlV1Mzg8A1g"
      },
      "source": [
        "df['word_density'] = df['char_count'] / (df['word_count']+1)"
      ],
      "execution_count": 9,
      "outputs": []
    },
    {
      "cell_type": "code",
      "metadata": {
        "id": "dFHUd1c58Arv"
      },
      "source": [
        "df['punctuation_count'] = df[feature_col].apply(lambda x: len(\"\".join(_ for _ in x if _ in string.punctuation))) "
      ],
      "execution_count": 10,
      "outputs": []
    },
    {
      "cell_type": "code",
      "metadata": {
        "id": "R3apI17O8GJd"
      },
      "source": [
        "df['title_word_count'] = df[feature_col].apply(lambda x: len([wrd for wrd in x.split() if wrd.istitle()]))"
      ],
      "execution_count": 11,
      "outputs": []
    },
    {
      "cell_type": "code",
      "metadata": {
        "id": "FzE-je8d8GvZ"
      },
      "source": [
        "df['upper_case_word_count'] = df[feature_col].apply(lambda x: len([wrd for wrd in x.split() if wrd.isupper()]))"
      ],
      "execution_count": 12,
      "outputs": []
    },
    {
      "cell_type": "code",
      "metadata": {
        "colab": {
          "base_uri": "https://localhost:8080/",
          "height": 289
        },
        "id": "sxkdhNcI6-2o",
        "outputId": "4777e832-4ca8-4634-f316-bf3776e9c9f8"
      },
      "source": [
        "df.head()"
      ],
      "execution_count": 13,
      "outputs": [
        {
          "output_type": "execute_result",
          "data": {
            "text/html": [
              "<div>\n",
              "<style scoped>\n",
              "    .dataframe tbody tr th:only-of-type {\n",
              "        vertical-align: middle;\n",
              "    }\n",
              "\n",
              "    .dataframe tbody tr th {\n",
              "        vertical-align: top;\n",
              "    }\n",
              "\n",
              "    .dataframe thead th {\n",
              "        text-align: right;\n",
              "    }\n",
              "</style>\n",
              "<table border=\"1\" class=\"dataframe\">\n",
              "  <thead>\n",
              "    <tr style=\"text-align: right;\">\n",
              "      <th></th>\n",
              "      <th>article</th>\n",
              "      <th>char_count</th>\n",
              "      <th>word_count</th>\n",
              "      <th>word_density</th>\n",
              "      <th>punctuation_count</th>\n",
              "      <th>title_word_count</th>\n",
              "      <th>upper_case_word_count</th>\n",
              "    </tr>\n",
              "  </thead>\n",
              "  <tbody>\n",
              "    <tr>\n",
              "      <th>0</th>\n",
              "      <td>\\nAny lunar satellite needs fuel to do regular...</td>\n",
              "      <td>575</td>\n",
              "      <td>97</td>\n",
              "      <td>5.867347</td>\n",
              "      <td>14</td>\n",
              "      <td>9</td>\n",
              "      <td>0</td>\n",
              "    </tr>\n",
              "    <tr>\n",
              "      <th>1</th>\n",
              "      <td>\\nGlad to see Griffin is spending his time on ...</td>\n",
              "      <td>184</td>\n",
              "      <td>32</td>\n",
              "      <td>5.575758</td>\n",
              "      <td>2</td>\n",
              "      <td>3</td>\n",
              "      <td>0</td>\n",
              "    </tr>\n",
              "    <tr>\n",
              "      <th>2</th>\n",
              "      <td>\\n\\n\\nIn spite of my great respect for the peo...</td>\n",
              "      <td>666</td>\n",
              "      <td>122</td>\n",
              "      <td>5.414634</td>\n",
              "      <td>15</td>\n",
              "      <td>13</td>\n",
              "      <td>8</td>\n",
              "    </tr>\n",
              "    <tr>\n",
              "      <th>3</th>\n",
              "      <td>\\n\\n\\n\\n\\nDidn't one of the early jet fighters...</td>\n",
              "      <td>262</td>\n",
              "      <td>46</td>\n",
              "      <td>5.574468</td>\n",
              "      <td>11</td>\n",
              "      <td>5</td>\n",
              "      <td>4</td>\n",
              "    </tr>\n",
              "    <tr>\n",
              "      <th>4</th>\n",
              "      <td>I just got out of the Army. Go signal corps or...</td>\n",
              "      <td>281</td>\n",
              "      <td>50</td>\n",
              "      <td>5.509804</td>\n",
              "      <td>4</td>\n",
              "      <td>7</td>\n",
              "      <td>2</td>\n",
              "    </tr>\n",
              "  </tbody>\n",
              "</table>\n",
              "</div>"
            ],
            "text/plain": [
              "                                             article  ...  upper_case_word_count\n",
              "0  \\nAny lunar satellite needs fuel to do regular...  ...                      0\n",
              "1  \\nGlad to see Griffin is spending his time on ...  ...                      0\n",
              "2  \\n\\n\\nIn spite of my great respect for the peo...  ...                      8\n",
              "3  \\n\\n\\n\\n\\nDidn't one of the early jet fighters...  ...                      4\n",
              "4  I just got out of the Army. Go signal corps or...  ...                      2\n",
              "\n",
              "[5 rows x 7 columns]"
            ]
          },
          "metadata": {
            "tags": []
          },
          "execution_count": 13
        }
      ]
    },
    {
      "cell_type": "markdown",
      "metadata": {
        "id": "qjyZ_5Pq8KXU"
      },
      "source": [
        "## Parts of Speech Features\n",
        "\n",
        "Count based features are easy to create and understand. Yet count based features do not make use of any linguistic constructs or contextual information. In week-1 we studied about _Parts of Speech Tagging_. POS tagging helps us capture different constructs of a sentence such as nouns, verbs, etc.\n",
        "\n",
        "In this section, we will prepare features based on POS tags, such as:\n",
        "\n",
        "- Noun Count\n",
        "- Verb Count\n",
        "- Adjective Count\n",
        "- Adverb Count\n",
        "- Pronoun Count\n",
        "\n",
        "[Reference](https://www.analyticsvidhya.com/blog/2018/04/a-comprehensive-guide-to-understand-and-implement-text-classification-in-python/)"
      ]
    },
    {
      "cell_type": "code",
      "metadata": {
        "id": "BRqKb4u5_wxJ"
      },
      "source": [
        "import nltk"
      ],
      "execution_count": 14,
      "outputs": []
    },
    {
      "cell_type": "code",
      "metadata": {
        "colab": {
          "base_uri": "https://localhost:8080/"
        },
        "id": "re91V9M9_rBY",
        "outputId": "d184e14c-efc8-4a43-849e-2d62e42f842d"
      },
      "source": [
        "nltk.download('punkt')\n",
        "nltk.download('averaged_perceptron_tagger')"
      ],
      "execution_count": 15,
      "outputs": [
        {
          "output_type": "stream",
          "text": [
            "[nltk_data] Downloading package punkt to /root/nltk_data...\n",
            "[nltk_data]   Unzipping tokenizers/punkt.zip.\n",
            "[nltk_data] Downloading package averaged_perceptron_tagger to\n",
            "[nltk_data]     /root/nltk_data...\n",
            "[nltk_data]   Unzipping taggers/averaged_perceptron_tagger.zip.\n"
          ],
          "name": "stdout"
        },
        {
          "output_type": "execute_result",
          "data": {
            "text/plain": [
              "True"
            ]
          },
          "metadata": {
            "tags": []
          },
          "execution_count": 15
        }
      ]
    },
    {
      "cell_type": "code",
      "metadata": {
        "id": "2AeTcoyv6-ra"
      },
      "source": [
        "import textblob\n",
        "pos_family = {\n",
        "    'noun' : ['NN','NNS','NNP','NNPS'],\n",
        "    'pron' : ['PRP','PRP$','WP','WP$'],\n",
        "    'verb' : ['VB','VBD','VBG','VBN','VBP','VBZ'],\n",
        "    'adj' :  ['JJ','JJR','JJS'],\n",
        "    'adv' :  ['RB','RBR','RBS','WRB']\n",
        "}"
      ],
      "execution_count": 16,
      "outputs": []
    },
    {
      "cell_type": "code",
      "metadata": {
        "id": "1eFhWWTm8uSJ"
      },
      "source": [
        "# function to check and get the part of speech tag count of a words in a given sentence\n",
        "# note this may take some time to execute on larger corpora\n",
        "\n",
        "def check_pos_tag(x, flag):\n",
        "    cnt = 0\n",
        "    try:\n",
        "        wiki = textblob.TextBlob(x)\n",
        "        for tup in wiki.tags:\n",
        "            ppo = list(tup)[1]\n",
        "            if ppo in pos_family[flag]:\n",
        "                cnt += 1\n",
        "    except:\n",
        "        pass\n",
        "    return cnt"
      ],
      "execution_count": 17,
      "outputs": []
    },
    {
      "cell_type": "code",
      "metadata": {
        "id": "KguZTDtv84sP"
      },
      "source": [
        "feature_col = 'article'"
      ],
      "execution_count": 18,
      "outputs": []
    },
    {
      "cell_type": "code",
      "metadata": {
        "id": "c-s2RmMz8uNp"
      },
      "source": [
        "df['noun_count'] = df[feature_col].apply(lambda x: check_pos_tag(x, 'noun'))"
      ],
      "execution_count": 19,
      "outputs": []
    },
    {
      "cell_type": "code",
      "metadata": {
        "id": "e7FVjFhW8uFt"
      },
      "source": [
        "df['verb_count'] = df[feature_col].apply(lambda x: check_pos_tag(x, 'verb'))"
      ],
      "execution_count": 20,
      "outputs": []
    },
    {
      "cell_type": "code",
      "metadata": {
        "id": "7uHYGFR49BWU"
      },
      "source": [
        "df['adj_count'] = df[feature_col].apply(lambda x: check_pos_tag(x, 'adj'))"
      ],
      "execution_count": 21,
      "outputs": []
    },
    {
      "cell_type": "code",
      "metadata": {
        "id": "apZB1ubu9CqC"
      },
      "source": [
        "df['adv_count'] = df[feature_col].apply(lambda x: check_pos_tag(x, 'adv'))"
      ],
      "execution_count": 22,
      "outputs": []
    },
    {
      "cell_type": "code",
      "metadata": {
        "id": "FdvoTpbx9Dt_"
      },
      "source": [
        "df['pron_count'] = df[feature_col].apply(lambda x: check_pos_tag(x, 'pron'))"
      ],
      "execution_count": 23,
      "outputs": []
    },
    {
      "cell_type": "code",
      "metadata": {
        "colab": {
          "base_uri": "https://localhost:8080/",
          "height": 204
        },
        "id": "fUG8NRXLBCha",
        "outputId": "32d2617f-6ef4-42be-ae08-78ceb8fd2293"
      },
      "source": [
        "df[['article','noun_count','verb_count','adj_count','adv_count','pron_count']].head()"
      ],
      "execution_count": 24,
      "outputs": [
        {
          "output_type": "execute_result",
          "data": {
            "text/html": [
              "<div>\n",
              "<style scoped>\n",
              "    .dataframe tbody tr th:only-of-type {\n",
              "        vertical-align: middle;\n",
              "    }\n",
              "\n",
              "    .dataframe tbody tr th {\n",
              "        vertical-align: top;\n",
              "    }\n",
              "\n",
              "    .dataframe thead th {\n",
              "        text-align: right;\n",
              "    }\n",
              "</style>\n",
              "<table border=\"1\" class=\"dataframe\">\n",
              "  <thead>\n",
              "    <tr style=\"text-align: right;\">\n",
              "      <th></th>\n",
              "      <th>article</th>\n",
              "      <th>noun_count</th>\n",
              "      <th>verb_count</th>\n",
              "      <th>adj_count</th>\n",
              "      <th>adv_count</th>\n",
              "      <th>pron_count</th>\n",
              "    </tr>\n",
              "  </thead>\n",
              "  <tbody>\n",
              "    <tr>\n",
              "      <th>0</th>\n",
              "      <td>\\nAny lunar satellite needs fuel to do regular...</td>\n",
              "      <td>27</td>\n",
              "      <td>13</td>\n",
              "      <td>15</td>\n",
              "      <td>8</td>\n",
              "      <td>4</td>\n",
              "    </tr>\n",
              "    <tr>\n",
              "      <th>1</th>\n",
              "      <td>\\nGlad to see Griffin is spending his time on ...</td>\n",
              "      <td>9</td>\n",
              "      <td>5</td>\n",
              "      <td>2</td>\n",
              "      <td>2</td>\n",
              "      <td>2</td>\n",
              "    </tr>\n",
              "    <tr>\n",
              "      <th>2</th>\n",
              "      <td>\\n\\n\\nIn spite of my great respect for the peo...</td>\n",
              "      <td>26</td>\n",
              "      <td>21</td>\n",
              "      <td>13</td>\n",
              "      <td>7</td>\n",
              "      <td>14</td>\n",
              "    </tr>\n",
              "    <tr>\n",
              "      <th>3</th>\n",
              "      <td>\\n\\n\\n\\n\\nDidn't one of the early jet fighters...</td>\n",
              "      <td>13</td>\n",
              "      <td>8</td>\n",
              "      <td>2</td>\n",
              "      <td>6</td>\n",
              "      <td>2</td>\n",
              "    </tr>\n",
              "    <tr>\n",
              "      <th>4</th>\n",
              "      <td>I just got out of the Army. Go signal corps or...</td>\n",
              "      <td>14</td>\n",
              "      <td>7</td>\n",
              "      <td>6</td>\n",
              "      <td>4</td>\n",
              "      <td>3</td>\n",
              "    </tr>\n",
              "  </tbody>\n",
              "</table>\n",
              "</div>"
            ],
            "text/plain": [
              "                                             article  ...  pron_count\n",
              "0  \\nAny lunar satellite needs fuel to do regular...  ...           4\n",
              "1  \\nGlad to see Griffin is spending his time on ...  ...           2\n",
              "2  \\n\\n\\nIn spite of my great respect for the peo...  ...          14\n",
              "3  \\n\\n\\n\\n\\nDidn't one of the early jet fighters...  ...           2\n",
              "4  I just got out of the Army. Go signal corps or...  ...           3\n",
              "\n",
              "[5 rows x 6 columns]"
            ]
          },
          "metadata": {
            "tags": []
          },
          "execution_count": 24
        }
      ]
    },
    {
      "cell_type": "markdown",
      "metadata": {
        "id": "hJgFUC3LDtAO"
      },
      "source": [
        "# Text Legibility Features\r\n",
        "\r\n",
        "There are a wide variety of text legibility tests which can be leveraged to extract various statistics from text data which can be used as a measure of ease of understanding, readability and complexity.\r\n",
        "\r\n",
        "The [`textstat`](https://pypi.org/project/textstat/) package provides a wide variety of such tests which can be leveraged to extract text legibility features.\r\n",
        "\r\n",
        "We will cover a few of the essential ones here including:\r\n",
        "\r\n",
        "- Syllable Counts\r\n",
        "- Sentence Counts\r\n",
        "- Flesch Reading Ease Score\r\n",
        "- Gunning Fog Index\r\n",
        "- Automated Readability Index"
      ]
    },
    {
      "cell_type": "code",
      "metadata": {
        "id": "IDbnMpsXBDyZ",
        "colab": {
          "base_uri": "https://localhost:8080/"
        },
        "outputId": "a73ed961-f283-499a-8100-593b07f1f387"
      },
      "source": [
        "!pip install textstat"
      ],
      "execution_count": 25,
      "outputs": [
        {
          "output_type": "stream",
          "text": [
            "Collecting textstat\n",
            "\u001b[?25l  Downloading https://files.pythonhosted.org/packages/ca/b1/ab40a00b727a0d209402d1be6aa3f1bc75bd03678b59ace8507b08bf12f5/textstat-0.7.0-py3-none-any.whl (99kB)\n",
            "\u001b[K     |████████████████████████████████| 102kB 4.1MB/s \n",
            "\u001b[?25hCollecting pyphen\n",
            "\u001b[?25l  Downloading https://files.pythonhosted.org/packages/7c/5a/5bc036e01389bc6a6667a932bac3e388de6e7fa5777a6ff50e652f60ec79/Pyphen-0.10.0-py3-none-any.whl (1.9MB)\n",
            "\u001b[K     |████████████████████████████████| 1.9MB 8.8MB/s \n",
            "\u001b[?25hInstalling collected packages: pyphen, textstat\n",
            "Successfully installed pyphen-0.10.0 textstat-0.7.0\n"
          ],
          "name": "stdout"
        }
      ]
    },
    {
      "cell_type": "code",
      "metadata": {
        "id": "Sxa64hR5BSZd"
      },
      "source": [
        "import textstat"
      ],
      "execution_count": 26,
      "outputs": []
    },
    {
      "cell_type": "markdown",
      "metadata": {
        "id": "kqqU0-7PEc2r"
      },
      "source": [
        "## Syllable Count\r\n",
        "\r\n",
        "Returns the number of syllables present in the given text document"
      ]
    },
    {
      "cell_type": "code",
      "metadata": {
        "id": "fro_Q8SwBQu3"
      },
      "source": [
        "df['syllable_count'] = [textstat.syllable_count(doc) \r\n",
        "                          for doc in df[feature_col].values]\r\n"
      ],
      "execution_count": 28,
      "outputs": []
    },
    {
      "cell_type": "markdown",
      "metadata": {
        "id": "DVDJJHPREjP7"
      },
      "source": [
        "## Sentence Count\r\n",
        "\r\n",
        "Returns the number of sentences present in the given text document"
      ]
    },
    {
      "cell_type": "code",
      "metadata": {
        "id": "Nb52GlnuBYVV"
      },
      "source": [
        "df['sentence_count'] = [textstat.sentence_count(doc) \r\n",
        "                          for doc in df[feature_col].values]"
      ],
      "execution_count": 29,
      "outputs": []
    },
    {
      "cell_type": "markdown",
      "metadata": {
        "id": "KKo7-_lzEq8M"
      },
      "source": [
        "## Flesch Reading Ease Score\r\n",
        "\r\n",
        "In the Flesch reading-ease test, higher scores indicate material that is easier to read; lower numbers mark passages that are more difficult to read. The formula for the Flesch reading-ease score (FRES) test and the score interpretations are showcased as follows based on [Wikipedia](https://en.wikipedia.org/wiki/Flesch%E2%80%93Kincaid_readability_tests#Flesch_reading_ease)\r\n",
        "\r\n",
        "![](https://i.imgur.com/YxgbUpv.png)\r\n",
        "\r\n",
        "While the maximum score is 121.22, there is no limit on how low the score can be. A negative score is valid."
      ]
    },
    {
      "cell_type": "code",
      "metadata": {
        "id": "YsJI02KSBq9O"
      },
      "source": [
        "df['flesch_reading_ease_score'] = [textstat.flesch_reading_ease(doc) \r\n",
        "                                      for doc in df[feature_col].values]"
      ],
      "execution_count": 30,
      "outputs": []
    },
    {
      "cell_type": "markdown",
      "metadata": {
        "id": "IDXPv1esFnW6"
      },
      "source": [
        "## Gunning Fog Index\r\n",
        "\r\n",
        "The Gunning fog index estimates the years of formal education a person needs to understand the text on the first reading. \r\n",
        "\r\n",
        "A fog index of 12 requires the reading level of a United States high school senior (around 18 years old). \r\n",
        "\r\n",
        "The fog index is commonly used to confirm that text can be read easily by the intended audience. Texts for a wide audience generally need a fog index less than 12. Texts requiring near-universal understanding generally need an index less than 8.\r\n",
        "\r\n",
        "The complete formula for computing the index and interpretation is depicted as follows thanks to [Wikipedia](https://en.wikipedia.org/wiki/Gunning_fog_index)\r\n",
        "\r\n",
        "![](https://i.imgur.com/SVsUENK.png)"
      ]
    },
    {
      "cell_type": "code",
      "metadata": {
        "id": "giB-IOnfB2ln"
      },
      "source": [
        "df['gunning_fog_index'] = [textstat.gunning_fog(doc) \r\n",
        "                                      for doc in df[feature_col].values]"
      ],
      "execution_count": 31,
      "outputs": []
    },
    {
      "cell_type": "markdown",
      "metadata": {
        "id": "iNmRQl9AGh-B"
      },
      "source": [
        "## Automated Readability Index\r\n",
        "\r\n",
        "The automated readability index (ARI) is a readability test for English texts, designed to gauge the understandability of a text. \r\n",
        "\r\n",
        "Like the Flesch–Kincaid grade level, Gunning fog index etc., it produces an approximate representation of the US grade level needed to comprehend the text.\r\n",
        "\r\n",
        "The complete formula for computing the index and interpretation is depicted as follows thanks to [Wikipedia](https://en.wikipedia.org/wiki/Automated_readability_index)\r\n",
        "\r\n",
        "![](https://i.imgur.com/2ohzUok.png)"
      ]
    },
    {
      "cell_type": "code",
      "metadata": {
        "id": "u0LKmYckCTjN"
      },
      "source": [
        "df['automated_readability_index'] = [textstat.automated_readability_index(doc) \r\n",
        "                                      for doc in df[feature_col].values]"
      ],
      "execution_count": 32,
      "outputs": []
    },
    {
      "cell_type": "code",
      "metadata": {
        "colab": {
          "base_uri": "https://localhost:8080/",
          "height": 340
        },
        "id": "DpvOHYV4CT6B",
        "outputId": "75fc115f-7448-430a-a621-051610b1865f"
      },
      "source": [
        "df[['article', 'syllable_count', 'sentence_count', 'flesch_reading_ease_score', \r\n",
        "    'gunning_fog_index','automated_readability_index']].head()"
      ],
      "execution_count": 33,
      "outputs": [
        {
          "output_type": "execute_result",
          "data": {
            "text/html": [
              "<div>\n",
              "<style scoped>\n",
              "    .dataframe tbody tr th:only-of-type {\n",
              "        vertical-align: middle;\n",
              "    }\n",
              "\n",
              "    .dataframe tbody tr th {\n",
              "        vertical-align: top;\n",
              "    }\n",
              "\n",
              "    .dataframe thead th {\n",
              "        text-align: right;\n",
              "    }\n",
              "</style>\n",
              "<table border=\"1\" class=\"dataframe\">\n",
              "  <thead>\n",
              "    <tr style=\"text-align: right;\">\n",
              "      <th></th>\n",
              "      <th>article</th>\n",
              "      <th>syllable_count</th>\n",
              "      <th>sentence_count</th>\n",
              "      <th>flesch_reading_ease_score</th>\n",
              "      <th>gunning_fog_index</th>\n",
              "      <th>automated_readability_index</th>\n",
              "    </tr>\n",
              "  </thead>\n",
              "  <tbody>\n",
              "    <tr>\n",
              "      <th>0</th>\n",
              "      <td>\\nAny lunar satellite needs fuel to do regular...</td>\n",
              "      <td>147</td>\n",
              "      <td>1</td>\n",
              "      <td>-16.50</td>\n",
              "      <td>42.21</td>\n",
              "      <td>50.0</td>\n",
              "    </tr>\n",
              "    <tr>\n",
              "      <th>1</th>\n",
              "      <td>\\nGlad to see Griffin is spending his time on ...</td>\n",
              "      <td>44</td>\n",
              "      <td>1</td>\n",
              "      <td>55.92</td>\n",
              "      <td>17.80</td>\n",
              "      <td>17.2</td>\n",
              "    </tr>\n",
              "    <tr>\n",
              "      <th>2</th>\n",
              "      <td>\\n\\n\\nIn spite of my great respect for the peo...</td>\n",
              "      <td>158</td>\n",
              "      <td>5</td>\n",
              "      <td>72.09</td>\n",
              "      <td>12.06</td>\n",
              "      <td>12.2</td>\n",
              "    </tr>\n",
              "    <tr>\n",
              "      <th>3</th>\n",
              "      <td>\\n\\n\\n\\n\\nDidn't one of the early jet fighters...</td>\n",
              "      <td>61</td>\n",
              "      <td>3</td>\n",
              "      <td>81.33</td>\n",
              "      <td>7.86</td>\n",
              "      <td>8.8</td>\n",
              "    </tr>\n",
              "    <tr>\n",
              "      <th>4</th>\n",
              "      <td>I just got out of the Army. Go signal corps or...</td>\n",
              "      <td>71</td>\n",
              "      <td>3</td>\n",
              "      <td>71.44</td>\n",
              "      <td>9.88</td>\n",
              "      <td>8.5</td>\n",
              "    </tr>\n",
              "  </tbody>\n",
              "</table>\n",
              "</div>"
            ],
            "text/plain": [
              "                                             article  ...  automated_readability_index\n",
              "0  \\nAny lunar satellite needs fuel to do regular...  ...                         50.0\n",
              "1  \\nGlad to see Griffin is spending his time on ...  ...                         17.2\n",
              "2  \\n\\n\\nIn spite of my great respect for the peo...  ...                         12.2\n",
              "3  \\n\\n\\n\\n\\nDidn't one of the early jet fighters...  ...                          8.8\n",
              "4  I just got out of the Army. Go signal corps or...  ...                          8.5\n",
              "\n",
              "[5 rows x 6 columns]"
            ]
          },
          "metadata": {
            "tags": []
          },
          "execution_count": 33
        }
      ]
    },
    {
      "cell_type": "markdown",
      "metadata": {
        "id": "cJULhmJNHbPK"
      },
      "source": [
        "## Sentiment Based Features\r\n",
        "\r\n",
        "If you are dealing with subjective and opinionated text where people often express stong emotions, feelings. \r\n",
        "\r\n",
        "This might make it a classic case where the text documents  are a good candidate for extracting sentiment as a feature.\r\n",
        "\r\n",
        "TextBlob is an excellent open-source library for performing NLP tasks with ease, including sentiment analysis. It also an a sentiment lexicon (in the form of an XML file) which it leverages to give both polarity and subjectivity scores. \r\n",
        "\r\n",
        "- The polarity score is a float within the range [-1.0, 1.0]. \r\n",
        "- The subjectivity is a float within the range [0.0, 1.0] where 0.0 is very objective and 1.0 is very subjective. \r\n",
        "\r\n",
        "Perhaps this could be used for getting some new features? Let's look at some basic examples."
      ]
    },
    {
      "cell_type": "code",
      "metadata": {
        "colab": {
          "base_uri": "https://localhost:8080/"
        },
        "id": "KKjtNXxpDJaz",
        "outputId": "884a92e9-6063-412e-8c23-86a4f62a0e84"
      },
      "source": [
        "textblob.TextBlob('This is an AMAZING pair of Jeans!').sentiment"
      ],
      "execution_count": 34,
      "outputs": [
        {
          "output_type": "execute_result",
          "data": {
            "text/plain": [
              "Sentiment(polarity=0.7500000000000001, subjectivity=0.9)"
            ]
          },
          "metadata": {
            "tags": []
          },
          "execution_count": 34
        }
      ]
    },
    {
      "cell_type": "code",
      "metadata": {
        "colab": {
          "base_uri": "https://localhost:8080/"
        },
        "id": "KP9rWuLEJLHG",
        "outputId": "8c78c0c8-542f-4f7a-d174-7e771b84309b"
      },
      "source": [
        "textblob.TextBlob('I really hated this UGLY T-shirt!!').sentiment"
      ],
      "execution_count": 35,
      "outputs": [
        {
          "output_type": "execute_result",
          "data": {
            "text/plain": [
              "Sentiment(polarity=-0.95, subjectivity=0.85)"
            ]
          },
          "metadata": {
            "tags": []
          },
          "execution_count": 35
        }
      ]
    },
    {
      "cell_type": "markdown",
      "metadata": {
        "id": "ZL-e7hoqJPW_"
      },
      "source": [
        "Remember this is unsupervised, lexicon-based sentiment analysis where we don't have any pre-labeled data saying which article might have a positive or negative sentiment. We use the lexicon to determine this."
      ]
    },
    {
      "cell_type": "code",
      "metadata": {
        "id": "g5f3fCnLJMrI"
      },
      "source": [
        "df_snt_obj = df[feature_col].apply(lambda row: textblob.TextBlob(row).sentiment)\r\n",
        "df['Polarity'] = [obj.polarity for obj in df_snt_obj.values]\r\n",
        "df['Subjectivity'] = [obj.subjectivity for obj in df_snt_obj.values]"
      ],
      "execution_count": 36,
      "outputs": []
    },
    {
      "cell_type": "code",
      "metadata": {
        "colab": {
          "base_uri": "https://localhost:8080/",
          "height": 204
        },
        "id": "4tQQ1248Jh0P",
        "outputId": "4835d41f-d700-4906-f9be-62d3a66d6fc2"
      },
      "source": [
        "df[['article', 'Polarity', 'Subjectivity']].head()"
      ],
      "execution_count": 37,
      "outputs": [
        {
          "output_type": "execute_result",
          "data": {
            "text/html": [
              "<div>\n",
              "<style scoped>\n",
              "    .dataframe tbody tr th:only-of-type {\n",
              "        vertical-align: middle;\n",
              "    }\n",
              "\n",
              "    .dataframe tbody tr th {\n",
              "        vertical-align: top;\n",
              "    }\n",
              "\n",
              "    .dataframe thead th {\n",
              "        text-align: right;\n",
              "    }\n",
              "</style>\n",
              "<table border=\"1\" class=\"dataframe\">\n",
              "  <thead>\n",
              "    <tr style=\"text-align: right;\">\n",
              "      <th></th>\n",
              "      <th>article</th>\n",
              "      <th>Polarity</th>\n",
              "      <th>Subjectivity</th>\n",
              "    </tr>\n",
              "  </thead>\n",
              "  <tbody>\n",
              "    <tr>\n",
              "      <th>0</th>\n",
              "      <td>\\nAny lunar satellite needs fuel to do regular...</td>\n",
              "      <td>-0.015909</td>\n",
              "      <td>0.431993</td>\n",
              "    </tr>\n",
              "    <tr>\n",
              "      <th>1</th>\n",
              "      <td>\\nGlad to see Griffin is spending his time on ...</td>\n",
              "      <td>0.200000</td>\n",
              "      <td>0.600000</td>\n",
              "    </tr>\n",
              "    <tr>\n",
              "      <th>2</th>\n",
              "      <td>\\n\\n\\nIn spite of my great respect for the peo...</td>\n",
              "      <td>-0.008532</td>\n",
              "      <td>0.535714</td>\n",
              "    </tr>\n",
              "    <tr>\n",
              "      <th>3</th>\n",
              "      <td>\\n\\n\\n\\n\\nDidn't one of the early jet fighters...</td>\n",
              "      <td>0.130208</td>\n",
              "      <td>0.244444</td>\n",
              "    </tr>\n",
              "    <tr>\n",
              "      <th>4</th>\n",
              "      <td>I just got out of the Army. Go signal corps or...</td>\n",
              "      <td>0.210000</td>\n",
              "      <td>0.580000</td>\n",
              "    </tr>\n",
              "  </tbody>\n",
              "</table>\n",
              "</div>"
            ],
            "text/plain": [
              "                                             article  Polarity  Subjectivity\n",
              "0  \\nAny lunar satellite needs fuel to do regular... -0.015909      0.431993\n",
              "1  \\nGlad to see Griffin is spending his time on ...  0.200000      0.600000\n",
              "2  \\n\\n\\nIn spite of my great respect for the peo... -0.008532      0.535714\n",
              "3  \\n\\n\\n\\n\\nDidn't one of the early jet fighters...  0.130208      0.244444\n",
              "4  I just got out of the Army. Go signal corps or...  0.210000      0.580000"
            ]
          },
          "metadata": {
            "tags": []
          },
          "execution_count": 37
        }
      ]
    },
    {
      "cell_type": "markdown",
      "metadata": {
        "id": "tnb7XlypKG71"
      },
      "source": [
        "Let's look at the article text with the highest negative sentiment and its other features"
      ]
    },
    {
      "cell_type": "code",
      "metadata": {
        "colab": {
          "base_uri": "https://localhost:8080/"
        },
        "id": "OXTajOUfJuXp",
        "outputId": "710088af-1c7d-421b-e39c-d3dff58f7e5b"
      },
      "source": [
        "df['Polarity'].idxmin()"
      ],
      "execution_count": 41,
      "outputs": [
        {
          "output_type": "execute_result",
          "data": {
            "text/plain": [
              "226"
            ]
          },
          "metadata": {
            "tags": []
          },
          "execution_count": 41
        }
      ]
    },
    {
      "cell_type": "code",
      "metadata": {
        "colab": {
          "base_uri": "https://localhost:8080/"
        },
        "id": "HLj-X-6KJxTN",
        "outputId": "0096e129-289e-4d73-a7e8-5423a66f73b9"
      },
      "source": [
        "df.iloc[226]"
      ],
      "execution_count": 42,
      "outputs": [
        {
          "output_type": "execute_result",
          "data": {
            "text/plain": [
              "article                        \\nI assume, then, that someone at Thiokol put ...\n",
              "char_count                                                                   225\n",
              "word_count                                                                    42\n",
              "word_density                                                             5.23256\n",
              "punctuation_count                                                              7\n",
              "title_word_count                                                               2\n",
              "upper_case_word_count                                                          2\n",
              "noun_count                                                                     9\n",
              "verb_count                                                                     9\n",
              "adj_count                                                                      1\n",
              "adv_count                                                                      3\n",
              "pron_count                                                                     3\n",
              "syllable_count                                                                53\n",
              "sentence_count                                                                 1\n",
              "flesch_reading_ease_score                                                  54.23\n",
              "gunning_fog_index                                                           18.7\n",
              "automated_readability_index                                                 20.4\n",
              "Polarity                                                                    -0.7\n",
              "Subjectivity                                                            0.666667\n",
              "Name: 226, dtype: object"
            ]
          },
          "metadata": {
            "tags": []
          },
          "execution_count": 42
        }
      ]
    },
    {
      "cell_type": "code",
      "metadata": {
        "colab": {
          "base_uri": "https://localhost:8080/",
          "height": 52
        },
        "id": "hgHRzpUJJ39s",
        "outputId": "1dbcf424-05a0-4147-fe57-816d2be05e48"
      },
      "source": [
        "df.iloc[226]['article']"
      ],
      "execution_count": 45,
      "outputs": [
        {
          "output_type": "execute_result",
          "data": {
            "application/vnd.google.colaboratory.intrinsic+json": {
              "type": "string"
            },
            "text/plain": [
              "'\\nI assume, then, that someone at Thiokol put on their \"manager\\'s hat\" and said\\nthat pissing off the customer by delaying shipment of the SRB to look inside\\nit was a bad idea, regardless of where that tool might have ended up.'"
            ]
          },
          "metadata": {
            "tags": []
          },
          "execution_count": 45
        }
      ]
    }
  ]
}